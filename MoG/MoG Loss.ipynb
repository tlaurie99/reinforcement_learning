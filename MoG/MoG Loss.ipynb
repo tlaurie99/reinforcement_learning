{
 "cells": [
  {
   "cell_type": "code",
   "execution_count": 22,
   "id": "4fe2099f",
   "metadata": {},
   "outputs": [],
   "source": [
    "import ray\n",
    "import time"
   ]
  },
  {
   "cell_type": "markdown",
   "id": "1eba2f4c",
   "metadata": {},
   "source": [
    "### Ray Tasks"
   ]
  },
  {
   "cell_type": "code",
   "execution_count": null,
   "id": "bfd40b35",
   "metadata": {},
   "outputs": [],
   "source": [
    "def some_function():\n",
    "    return 1"
   ]
  },
  {
   "cell_type": "code",
   "execution_count": null,
   "id": "9e0c375f",
   "metadata": {},
   "outputs": [],
   "source": [
    "@ray.remote\n",
    "def new_function():\n",
    "    return 2\n",
    "\n",
    "#by using @ray.remote this decorator turns the python funciton into a remote function"
   ]
  },
  {
   "cell_type": "code",
   "execution_count": null,
   "id": "244193a2",
   "metadata": {},
   "outputs": [],
   "source": [
    "obj_ref = new_function.remote()\n",
    "#by using this .remote() method, we create a ray task that will be executed on a worker process"
   ]
  },
  {
   "cell_type": "code",
   "execution_count": null,
   "id": "5280621f",
   "metadata": {},
   "outputs": [],
   "source": [
    "# ray.get(obj_ref)\n",
    "#we can use the ray.get method to get the object's instance"
   ]
  },
  {
   "cell_type": "code",
   "execution_count": null,
   "id": "b52fb6d4",
   "metadata": {},
   "outputs": [],
   "source": [
    "@ray.remote\n",
    "def timestep_function():\n",
    "    time.sleep(10)\n",
    "    return 2"
   ]
  },
  {
   "cell_type": "code",
   "execution_count": null,
   "id": "ba90101a",
   "metadata": {},
   "outputs": [],
   "source": [
    "for i in range(5):\n",
    "    timestep_function.remote()\n",
    "#     ray.get(timestep_function.remote())"
   ]
  },
  {
   "cell_type": "code",
   "execution_count": null,
   "id": "f27808b8",
   "metadata": {},
   "outputs": [],
   "source": [
    "reference = timestep_function.remote()"
   ]
  },
  {
   "cell_type": "code",
   "execution_count": null,
   "id": "d9b47615",
   "metadata": {},
   "outputs": [],
   "source": [
    "reference"
   ]
  },
  {
   "cell_type": "code",
   "execution_count": null,
   "id": "f7a0674e",
   "metadata": {},
   "outputs": [],
   "source": [
    "ray.get(reference)"
   ]
  },
  {
   "cell_type": "markdown",
   "id": "9c61f4c9",
   "metadata": {},
   "source": [
    "### Ray Actors"
   ]
  },
  {
   "cell_type": "code",
   "execution_count": null,
   "id": "9c57a97d",
   "metadata": {},
   "outputs": [],
   "source": [
    "@ray.remote\n",
    "class Counter():\n",
    "    def __init__(self):\n",
    "        self.value = 0\n",
    "        \n",
    "    def increment(self):\n",
    "        self.value += 1\n",
    "        return self.value\n",
    "    \n",
    "    def get_counter(self):\n",
    "        return self.value\n",
    "    \n",
    "counter = Counter.remote()"
   ]
  },
  {
   "cell_type": "code",
   "execution_count": null,
   "id": "4bbb6caa",
   "metadata": {},
   "outputs": [],
   "source": [
    "from ray.util.state import get_actor"
   ]
  },
  {
   "cell_type": "code",
   "execution_count": null,
   "id": "253cbcad",
   "metadata": {},
   "outputs": [],
   "source": [
    "ray.init()"
   ]
  },
  {
   "cell_type": "code",
   "execution_count": null,
   "id": "c073c8fe",
   "metadata": {},
   "outputs": [],
   "source": [
    "counter1 = Counter.remote()\n",
    "counter2 = Counter.remote()\n",
    "counter3 = Counter.remote()"
   ]
  },
  {
   "cell_type": "code",
   "execution_count": null,
   "id": "45751141",
   "metadata": {},
   "outputs": [],
   "source": [
    "for i in range(10):\n",
    "    counter1.increment.remote()   \n",
    "\n",
    "for i in range(7):\n",
    "    counter2.increment.remote()\n",
    "    \n",
    "for i in range(4):\n",
    "    counter3.increment.remote()"
   ]
  },
  {
   "cell_type": "code",
   "execution_count": null,
   "id": "ec507e05",
   "metadata": {},
   "outputs": [],
   "source": [
    "actor_1 = ray.get(counter1.increment.remote())\n",
    "actor_2 = ray.get(counter2.increment.remote())\n",
    "actor_3 = ray.get(counter3.increment.remote())"
   ]
  },
  {
   "cell_type": "code",
   "execution_count": null,
   "id": "519e7a5a",
   "metadata": {},
   "outputs": [],
   "source": [
    "print(f\"Final value of counter 1: {actor_1}\")\n",
    "print(f\"Final value of counter 2: {actor_2}\")\n",
    "print(f\"Final value of counter 3: {actor_3}\")"
   ]
  },
  {
   "cell_type": "code",
   "execution_count": null,
   "id": "9898b102",
   "metadata": {},
   "outputs": [],
   "source": [
    "# Shutdown Ray\n",
    "ray.shutdown()"
   ]
  },
  {
   "cell_type": "code",
   "execution_count": null,
   "id": "f7fdca54",
   "metadata": {},
   "outputs": [],
   "source": [
    "obj_ref = counter.increment.remote()"
   ]
  },
  {
   "cell_type": "code",
   "execution_count": null,
   "id": "f5d02a7d",
   "metadata": {},
   "outputs": [],
   "source": [
    "ray.get(obj_ref)"
   ]
  },
  {
   "cell_type": "code",
   "execution_count": null,
   "id": "a7ee9c29",
   "metadata": {},
   "outputs": [],
   "source": [
    "ray.shutdown()"
   ]
  },
  {
   "cell_type": "markdown",
   "id": "3dd71ca8",
   "metadata": {},
   "source": [
    "### PPO Multi-Agent"
   ]
  },
  {
   "cell_type": "code",
   "execution_count": 2,
   "id": "8988c31c",
   "metadata": {},
   "outputs": [
    {
     "name": "stderr",
     "output_type": "stream",
     "text": [
      "C:\\Users\\TylerLaurie\\anaconda3\\Lib\\site-packages\\paramiko\\transport.py:219: CryptographyDeprecationWarning: Blowfish has been deprecated\n",
      "  \"class\": algorithms.Blowfish,\n"
     ]
    }
   ],
   "source": [
    "from ray.rllib.models.torch.torch_modelv2 import TorchModelV2\n",
    "from ray.rllib.algorithms.callbacks import DefaultCallbacks\n",
    "from ray.rllib.models import ModelCatalog\n",
    "from ray.rllib.utils.framework import try_import_torch\n",
    "from ray.rllib.algorithms.ppo import PPOConfig\n",
    "from ray import tune, air\n",
    "from ray.rllib.core.models.configs import MLPHeadConfig\n",
    "from ray.rllib.core.models.catalog import Catalog\n",
    "from ray.rllib.models.torch.fcnet import FullyConnectedNetwork as TorchFC\n",
    "from ray.rllib.utils.annotations import OverrideToImplementCustomLogic\n",
    "from gymnasium.spaces import Box\n",
    "from ray.rllib.examples.models.centralized_critic_models import YetAnotherTorchCentralizedCriticModel\n",
    "from ray.train.torch import TorchTrainer\n",
    "from ray.train import ScalingConfig\n",
    "import ray.rllib.algorithms.ppo as ppo\n",
    "from ray.rllib.utils.typing import Dict, TensorType, List, ModelConfigDict\n",
    "import gymnasium as gym\n",
    "import matplotlib.pyplot as plt\n",
    "from ray.rllib.models.torch.misc import SlimFC, AppendBiasLayer\n",
    "from ray.rllib.policy.torch_policy import TorchPolicy\n",
    "from ray.rllib.policy.policy_template import build_policy_class\n",
    "from ray.rllib.policy.sample_batch import SampleBatch\n",
    "import numpy as np\n",
    "from ray import tune\n",
    "import math\n",
    "from torch.distributions.normal import Normal"
   ]
  },
  {
   "cell_type": "markdown",
   "id": "304a57a6",
   "metadata": {},
   "source": [
    "### Data flow: obs -> forward() -> model_out \\-> value_function() -> V(s)"
   ]
  },
  {
   "cell_type": "code",
   "execution_count": 3,
   "id": "aa2954d2",
   "metadata": {},
   "outputs": [],
   "source": [
    "torch, nn = try_import_torch()"
   ]
  },
  {
   "cell_type": "code",
   "execution_count": 4,
   "id": "bce5d111",
   "metadata": {},
   "outputs": [
    {
     "name": "stderr",
     "output_type": "stream",
     "text": [
      "2024-02-12 15:09:51,320\tINFO worker.py:1715 -- Started a local Ray instance. View the dashboard at \u001b[1m\u001b[32mhttp://127.0.0.1:8266 \u001b[39m\u001b[22m\n"
     ]
    },
    {
     "data": {
      "application/vnd.jupyter.widget-view+json": {
       "model_id": "46fd5a3f6bc4410c824ce62044ad4097",
       "version_major": 2,
       "version_minor": 0
      },
      "text/html": [
       "<div class=\"lm-Widget p-Widget lm-Panel p-Panel jp-Cell-outputWrapper\">\n",
       "    <div style=\"margin-left: 50px;display: flex;flex-direction: row;align-items: center\">\n",
       "        <div class=\"jp-RenderedHTMLCommon\" style=\"display: flex; flex-direction: row;\">\n",
       "  <svg viewBox=\"0 0 567 224\" fill=\"none\" xmlns=\"http://www.w3.org/2000/svg\" style=\"height: 3em;\">\n",
       "    <g clip-path=\"url(#clip0_4338_178347)\">\n",
       "        <path d=\"M341.29 165.561H355.29L330.13 129.051C345.63 123.991 354.21 112.051 354.21 94.2307C354.21 71.3707 338.72 58.1807 311.88 58.1807H271V165.561H283.27V131.661H311.8C314.25 131.661 316.71 131.501 319.01 131.351L341.25 165.561H341.29ZM283.29 119.851V70.0007H311.82C331.3 70.0007 342.34 78.2907 342.34 94.5507C342.34 111.271 331.34 119.861 311.82 119.861L283.29 119.851ZM451.4 138.411L463.4 165.561H476.74L428.74 58.1807H416L367.83 165.561H380.83L392.83 138.411H451.4ZM446.19 126.601H398L422 72.1407L446.24 126.601H446.19ZM526.11 128.741L566.91 58.1807H554.35L519.99 114.181L485.17 58.1807H472.44L514.01 129.181V165.541H526.13V128.741H526.11Z\" fill=\"var(--jp-ui-font-color0)\"/>\n",
       "        <path d=\"M82.35 104.44C84.0187 97.8827 87.8248 92.0678 93.1671 87.9146C98.5094 83.7614 105.083 81.5067 111.85 81.5067C118.617 81.5067 125.191 83.7614 130.533 87.9146C135.875 92.0678 139.681 97.8827 141.35 104.44H163.75C164.476 101.562 165.622 98.8057 167.15 96.2605L127.45 56.5605C121.071 60.3522 113.526 61.6823 106.235 60.3005C98.9443 58.9187 92.4094 54.9203 87.8602 49.0574C83.3109 43.1946 81.0609 35.8714 81.5332 28.4656C82.0056 21.0599 85.1679 14.0819 90.4252 8.8446C95.6824 3.60726 102.672 0.471508 110.08 0.0272655C117.487 -0.416977 124.802 1.86091 130.647 6.4324C136.493 11.0039 140.467 17.5539 141.821 24.8501C143.175 32.1463 141.816 39.6859 138 46.0505L177.69 85.7505C182.31 82.9877 187.58 81.4995 192.962 81.4375C198.345 81.3755 203.648 82.742 208.33 85.3976C213.012 88.0532 216.907 91.9029 219.616 96.5544C222.326 101.206 223.753 106.492 223.753 111.875C223.753 117.258 222.326 122.545 219.616 127.197C216.907 131.848 213.012 135.698 208.33 138.353C203.648 141.009 198.345 142.375 192.962 142.313C187.58 142.251 182.31 140.763 177.69 138L138 177.7C141.808 184.071 143.155 191.614 141.79 198.91C140.424 206.205 136.44 212.75 130.585 217.313C124.731 221.875 117.412 224.141 110.004 223.683C102.596 223.226 95.6103 220.077 90.3621 214.828C85.1139 209.58 81.9647 202.595 81.5072 195.187C81.0497 187.779 83.3154 180.459 87.878 174.605C92.4405 168.751 98.9853 164.766 106.281 163.401C113.576 162.035 121.119 163.383 127.49 167.19L167.19 127.49C165.664 124.941 164.518 122.182 163.79 119.3H141.39C139.721 125.858 135.915 131.673 130.573 135.826C125.231 139.98 118.657 142.234 111.89 142.234C105.123 142.234 98.5494 139.98 93.2071 135.826C87.8648 131.673 84.0587 125.858 82.39 119.3H60C58.1878 126.495 53.8086 132.78 47.6863 136.971C41.5641 141.163 34.1211 142.972 26.7579 142.059C19.3947 141.146 12.6191 137.574 7.70605 132.014C2.79302 126.454 0.0813599 119.29 0.0813599 111.87C0.0813599 104.451 2.79302 97.2871 7.70605 91.7272C12.6191 86.1673 19.3947 82.5947 26.7579 81.6817C34.1211 80.7686 41.5641 82.5781 47.6863 86.7696C53.8086 90.9611 58.1878 97.2456 60 104.44H82.35ZM100.86 204.32C103.407 206.868 106.759 208.453 110.345 208.806C113.93 209.159 117.527 208.258 120.522 206.256C123.517 204.254 125.725 201.276 126.771 197.828C127.816 194.38 127.633 190.677 126.253 187.349C124.874 184.021 122.383 181.274 119.205 179.577C116.027 177.88 112.359 177.337 108.826 178.042C105.293 178.746 102.113 180.654 99.8291 183.44C97.5451 186.226 96.2979 189.718 96.3 193.32C96.2985 195.364 96.7006 197.388 97.4831 199.275C98.2656 201.163 99.4132 202.877 100.86 204.32ZM204.32 122.88C206.868 120.333 208.453 116.981 208.806 113.396C209.159 109.811 208.258 106.214 206.256 103.219C204.254 100.223 201.275 98.0151 197.827 96.97C194.38 95.9249 190.676 96.1077 187.348 97.4873C184.02 98.8669 181.274 101.358 179.577 104.536C177.879 107.714 177.337 111.382 178.041 114.915C178.746 118.448 180.653 121.627 183.439 123.911C186.226 126.195 189.717 127.443 193.32 127.44C195.364 127.443 197.388 127.042 199.275 126.259C201.163 125.476 202.878 124.328 204.32 122.88ZM122.88 19.4205C120.333 16.8729 116.981 15.2876 113.395 14.9347C109.81 14.5817 106.213 15.483 103.218 17.4849C100.223 19.4868 98.0146 22.4654 96.9696 25.9131C95.9245 29.3608 96.1073 33.0642 97.4869 36.3922C98.8665 39.7202 101.358 42.4668 104.535 44.1639C107.713 45.861 111.381 46.4036 114.914 45.6992C118.447 44.9949 121.627 43.0871 123.911 40.301C126.195 37.515 127.442 34.0231 127.44 30.4205C127.44 28.3772 127.038 26.3539 126.255 24.4664C125.473 22.5788 124.326 20.8642 122.88 19.4205ZM19.42 100.86C16.8725 103.408 15.2872 106.76 14.9342 110.345C14.5813 113.93 15.4826 117.527 17.4844 120.522C19.4863 123.518 22.4649 125.726 25.9127 126.771C29.3604 127.816 33.0638 127.633 36.3918 126.254C39.7198 124.874 42.4664 122.383 44.1635 119.205C45.8606 116.027 46.4032 112.359 45.6988 108.826C44.9944 105.293 43.0866 102.114 40.3006 99.8296C37.5145 97.5455 34.0227 96.2983 30.42 96.3005C26.2938 96.3018 22.337 97.9421 19.42 100.86ZM100.86 100.86C98.3125 103.408 96.7272 106.76 96.3742 110.345C96.0213 113.93 96.9226 117.527 98.9244 120.522C100.926 123.518 103.905 125.726 107.353 126.771C110.8 127.816 114.504 127.633 117.832 126.254C121.16 124.874 123.906 122.383 125.604 119.205C127.301 116.027 127.843 112.359 127.139 108.826C126.434 105.293 124.527 102.114 121.741 99.8296C118.955 97.5455 115.463 96.2983 111.86 96.3005C109.817 96.299 107.793 96.701 105.905 97.4835C104.018 98.2661 102.303 99.4136 100.86 100.86Z\" fill=\"#00AEEF\"/>\n",
       "    </g>\n",
       "    <defs>\n",
       "        <clipPath id=\"clip0_4338_178347\">\n",
       "            <rect width=\"566.93\" height=\"223.75\" fill=\"white\"/>\n",
       "        </clipPath>\n",
       "    </defs>\n",
       "  </svg>\n",
       "</div>\n",
       "\n",
       "        <table class=\"jp-RenderedHTMLCommon\" style=\"border-collapse: collapse;color: var(--jp-ui-font-color1);font-size: var(--jp-ui-font-size1);\">\n",
       "    <tr>\n",
       "        <td style=\"text-align: left\"><b>Python version:</b></td>\n",
       "        <td style=\"text-align: left\"><b>3.11.4</b></td>\n",
       "    </tr>\n",
       "    <tr>\n",
       "        <td style=\"text-align: left\"><b>Ray version:</b></td>\n",
       "        <td style=\"text-align: left\"><b>2.9.1</b></td>\n",
       "    </tr>\n",
       "    <tr>\n",
       "    <td style=\"text-align: left\"><b>Dashboard:</b></td>\n",
       "    <td style=\"text-align: left\"><b><a href=\"http://127.0.0.1:8266\" target=\"_blank\">http://127.0.0.1:8266</a></b></td>\n",
       "</tr>\n",
       "\n",
       "</table>\n",
       "\n",
       "    </div>\n",
       "</div>\n"
      ],
      "text/plain": [
       "RayContext(dashboard_url='127.0.0.1:8266', python_version='3.11.4', ray_version='2.9.1', ray_commit='cfbf98c315cfb2710c56039a3c96477d196de049', protocol_version=None)"
      ]
     },
     "execution_count": 4,
     "metadata": {},
     "output_type": "execute_result"
    }
   ],
   "source": [
    "ray.init()"
   ]
  },
  {
   "cell_type": "markdown",
   "id": "5348676a",
   "metadata": {},
   "source": [
    "### Basic PPO Model"
   ]
  },
  {
   "cell_type": "code",
   "execution_count": 140,
   "id": "d3c6a834",
   "metadata": {},
   "outputs": [],
   "source": [
    "class SimpleCustomTorchModel(TorchModelV2, nn.Module):\n",
    "    def __init__(self, obs_space, action_space, num_outputs, model_config, name):\n",
    "        TorchModelV2.__init__(self, obs_space, action_space, num_outputs, model_config, name)\n",
    "        nn.Module.__init__(self)\n",
    "\n",
    "        self.fcnet = TorchFC(obs_space, action_space, num_outputs, model_config, name + \"_fc\")\n",
    "\n",
    "    def forward(self, input_dict, state, seq_lens):\n",
    "        # Get the model output\n",
    "        model_out, _ = self.fcnet(input_dict, state, seq_lens)\n",
    "\n",
    "        # No need to split into mean and log_std; directly return model_out\n",
    "        return model_out, state\n",
    "\n",
    "    def value_function(self):\n",
    "        return torch.reshape(self.fcnet.value_function(), [-1])\n",
    "\n",
    "# Register the custom model to make it available to Ray/RLlib\n",
    "ModelCatalog.register_custom_model(\"simple_custom_torch_model\", SimpleCustomTorchModel)"
   ]
  },
  {
   "cell_type": "code",
   "execution_count": 141,
   "id": "12a3d2a9",
   "metadata": {
    "scrolled": true
   },
   "outputs": [
    {
     "name": "stderr",
     "output_type": "stream",
     "text": [
      "2024-02-05 15:24:10,402\tINFO worker.py:1715 -- Started a local Ray instance. View the dashboard at \u001b[1m\u001b[32mhttp://127.0.0.1:8265 \u001b[39m\u001b[22m\n",
      "\u001b[36m(pid=9744)\u001b[0m C:\\Users\\TylerLaurie\\anaconda3\\Lib\\site-packages\\paramiko\\transport.py:219: CryptographyDeprecationWarning: Blowfish has been deprecated\n",
      "\u001b[36m(pid=9744)\u001b[0m   \"class\": algorithms.Blowfish,\n",
      "\u001b[36m(RolloutWorker pid=9744)\u001b[0m C:\\Users\\TylerLaurie\\anaconda3\\Lib\\site-packages\\gymnasium\\core.py:311: UserWarning: \u001b[33mWARN: env.single_observation_space to get variables from other wrappers is deprecated and will be removed in v1.0, to get this variable you can do `env.unwrapped.single_observation_space` for environment variables or `env.get_wrapper_attr('single_observation_space')` that will search the reminding wrappers.\u001b[0m\n",
      "\u001b[36m(RolloutWorker pid=9744)\u001b[0m   logger.warn(\n",
      "\u001b[36m(RolloutWorker pid=9744)\u001b[0m C:\\Users\\TylerLaurie\\anaconda3\\Lib\\site-packages\\gymnasium\\core.py:311: UserWarning: \u001b[33mWARN: env.single_action_space to get variables from other wrappers is deprecated and will be removed in v1.0, to get this variable you can do `env.unwrapped.single_action_space` for environment variables or `env.get_wrapper_attr('single_action_space')` that will search the reminding wrappers.\u001b[0m\n",
      "\u001b[36m(RolloutWorker pid=9744)\u001b[0m   logger.warn(\n",
      "\u001b[36m(RolloutWorker pid=9744)\u001b[0m C:\\Users\\TylerLaurie\\AppData\\Local\\Temp\\ipykernel_1364\\2541876935.py:6: DeprecationWarning: `product` is deprecated as of NumPy 1.25.0, and will be removed in NumPy 2.0. Please use `prod` instead.\n",
      "C:\\Users\\TylerLaurie\\AppData\\Local\\Temp\\ipykernel_1364\\2541876935.py:6: DeprecationWarning:\n",
      "\n",
      "`product` is deprecated as of NumPy 1.25.0, and will be removed in NumPy 2.0. Please use `prod` instead.\n",
      "\n",
      "2024-02-05 15:24:23,824\tINFO trainable.py:164 -- Trainable.setup took 17.711 seconds. If your trainable is slow to initialize, consider setting reuse_actors=True to reduce actor creation overheads.\n",
      "2024-02-05 15:24:23,840\tWARNING util.py:62 -- Install gputil for GPU system monitoring.\n"
     ]
    },
    {
     "name": "stdout",
     "output_type": "stream",
     "text": [
      "Iteration: 0, Mean Reward: -388.52248006735005\n",
      "Iteration: 1, Mean Reward: -378.46788465411873\n",
      "Iteration: 2, Mean Reward: -360.566922537072\n",
      "Iteration: 3, Mean Reward: -358.7428159562637\n",
      "Iteration: 4, Mean Reward: -358.45956359728973\n",
      "Iteration: 5, Mean Reward: -352.85593360721987\n",
      "Iteration: 6, Mean Reward: -344.34510172466213\n",
      "Iteration: 7, Mean Reward: -337.35308058467325\n",
      "Iteration: 8, Mean Reward: -333.0444231775945\n",
      "Iteration: 9, Mean Reward: -330.8741844240609\n",
      "Iteration: 10, Mean Reward: -329.0901770020777\n",
      "Iteration: 11, Mean Reward: -329.23792484189175\n",
      "Iteration: 12, Mean Reward: -322.6441998456165\n",
      "Iteration: 13, Mean Reward: -314.42814353988103\n",
      "Iteration: 14, Mean Reward: -304.29262989278874\n",
      "Iteration: 15, Mean Reward: -300.4066128366866\n",
      "Iteration: 16, Mean Reward: -294.2643449955299\n",
      "Iteration: 17, Mean Reward: -286.4080581270536\n",
      "Iteration: 18, Mean Reward: -283.31550462750545\n",
      "Iteration: 19, Mean Reward: -273.75541995996025\n",
      "Iteration: 20, Mean Reward: -268.3608043102879\n",
      "Iteration: 21, Mean Reward: -264.47447295100943\n",
      "Iteration: 22, Mean Reward: -251.15071284689608\n",
      "Iteration: 23, Mean Reward: -239.94715897684057\n",
      "Iteration: 24, Mean Reward: -233.62602158894907\n",
      "Iteration: 25, Mean Reward: -226.70816972318642\n",
      "Iteration: 26, Mean Reward: -219.6193502247783\n",
      "Iteration: 27, Mean Reward: -212.8251429442081\n",
      "Iteration: 28, Mean Reward: -204.5221224615854\n",
      "Iteration: 29, Mean Reward: -197.33786608936762\n",
      "Iteration: 30, Mean Reward: -184.85898795372594\n",
      "Iteration: 31, Mean Reward: -175.67792033226706\n",
      "Iteration: 32, Mean Reward: -172.3533706193727\n",
      "Iteration: 33, Mean Reward: -161.6248431208095\n",
      "Iteration: 34, Mean Reward: -152.84096487547987\n",
      "Iteration: 35, Mean Reward: -145.97507543630815\n",
      "Iteration: 36, Mean Reward: -136.9816965467129\n",
      "Iteration: 37, Mean Reward: -129.60523146758368\n",
      "Iteration: 38, Mean Reward: -118.91135594540245\n",
      "Iteration: 39, Mean Reward: -111.14947001142237\n",
      "Iteration: 40, Mean Reward: -103.51600350114006\n",
      "Iteration: 41, Mean Reward: -84.48258691994737\n",
      "Iteration: 42, Mean Reward: -77.2977409283143\n",
      "Iteration: 43, Mean Reward: -71.73731878565107\n",
      "Iteration: 44, Mean Reward: -61.579603626697065\n",
      "Iteration: 45, Mean Reward: -51.84900463108609\n",
      "Iteration: 46, Mean Reward: -42.256757013479366\n",
      "Iteration: 47, Mean Reward: -29.339779840267365\n",
      "Iteration: 48, Mean Reward: -21.821412517791618\n",
      "Iteration: 49, Mean Reward: -9.81596132731628\n",
      "Iteration: 50, Mean Reward: -2.8320044239055395\n",
      "Iteration: 51, Mean Reward: 8.723660688512092\n",
      "Iteration: 52, Mean Reward: 14.72861450796516\n",
      "Iteration: 53, Mean Reward: 19.331262100278796\n",
      "Iteration: 54, Mean Reward: 23.05723470074196\n",
      "Iteration: 55, Mean Reward: 35.70335561511269\n",
      "Iteration: 56, Mean Reward: 40.76182621124546\n",
      "Iteration: 57, Mean Reward: 46.435835921862214\n",
      "Iteration: 58, Mean Reward: 54.85572732718382\n",
      "Iteration: 59, Mean Reward: 61.38147761022846\n",
      "Iteration: 60, Mean Reward: 70.55496743703868\n",
      "Iteration: 61, Mean Reward: 74.58629626057838\n",
      "Iteration: 62, Mean Reward: 80.55010200330938\n",
      "Iteration: 63, Mean Reward: 87.82889025583223\n",
      "Iteration: 64, Mean Reward: 95.49311832065698\n",
      "Iteration: 65, Mean Reward: 111.77934407833956\n",
      "Iteration: 66, Mean Reward: 127.77561309438053\n",
      "Iteration: 67, Mean Reward: 128.84639437186456\n",
      "Iteration: 68, Mean Reward: 142.45155836727162\n",
      "Iteration: 69, Mean Reward: 154.12452565111326\n",
      "Iteration: 70, Mean Reward: 159.85155540839818\n",
      "Iteration: 71, Mean Reward: 169.1837610932132\n",
      "Iteration: 72, Mean Reward: 182.0429956209424\n",
      "Iteration: 73, Mean Reward: 195.11495121081708\n",
      "Iteration: 74, Mean Reward: 201.62458347405772\n",
      "Iteration: 75, Mean Reward: 211.45224526523725\n",
      "Iteration: 76, Mean Reward: 227.58941560774855\n",
      "Iteration: 77, Mean Reward: 232.7244223208965\n",
      "Iteration: 78, Mean Reward: 232.72102592858752\n",
      "Iteration: 79, Mean Reward: 244.45088051319306\n",
      "Iteration: 80, Mean Reward: 260.65063456051155\n",
      "Iteration: 81, Mean Reward: 255.13655287678222\n",
      "Iteration: 82, Mean Reward: 259.7818904132519\n",
      "Iteration: 83, Mean Reward: 274.56398640947265\n",
      "Iteration: 84, Mean Reward: 288.04960135672485\n",
      "Iteration: 85, Mean Reward: 301.97123745980724\n",
      "Iteration: 86, Mean Reward: 308.3963960065828\n",
      "Iteration: 87, Mean Reward: 303.0670401356567\n",
      "Iteration: 88, Mean Reward: 304.2071219991131\n",
      "Iteration: 89, Mean Reward: 325.5702742508918\n",
      "Iteration: 90, Mean Reward: 339.95688600485556\n",
      "Iteration: 91, Mean Reward: 351.3504400676735\n",
      "Iteration: 92, Mean Reward: 362.11793611557266\n",
      "Iteration: 93, Mean Reward: 387.5748309719028\n",
      "Iteration: 94, Mean Reward: 407.92761693594343\n",
      "Iteration: 95, Mean Reward: 431.1391336704637\n",
      "Iteration: 96, Mean Reward: 429.4652775251603\n",
      "Iteration: 97, Mean Reward: 443.0191029169454\n",
      "Iteration: 98, Mean Reward: 465.77013208289156\n",
      "Iteration: 99, Mean Reward: 486.2647560727715\n"
     ]
    },
    {
     "name": "stderr",
     "output_type": "stream",
     "text": [
      "\u001b[36m(pid=6696)\u001b[0m C:\\Users\\TylerLaurie\\anaconda3\\Lib\\site-packages\\paramiko\\transport.py:219: CryptographyDeprecationWarning: Blowfish has been deprecated\n",
      "\u001b[36m(pid=6696)\u001b[0m   \"class\": algorithms.Blowfish,\n",
      "\u001b[36m(RolloutWorker pid=6696)\u001b[0m C:\\Users\\TylerLaurie\\anaconda3\\Lib\\site-packages\\gymnasium\\core.py:311: UserWarning: \u001b[33mWARN: env.single_observation_space to get variables from other wrappers is deprecated and will be removed in v1.0, to get this variable you can do `env.unwrapped.single_observation_space` for environment variables or `env.get_wrapper_attr('single_observation_space')` that will search the reminding wrappers.\u001b[0m\n",
      "\u001b[36m(RolloutWorker pid=6696)\u001b[0m   logger.warn(\u001b[32m [repeated 2x across cluster]\u001b[0m\n",
      "\u001b[36m(RolloutWorker pid=6696)\u001b[0m C:\\Users\\TylerLaurie\\anaconda3\\Lib\\site-packages\\gymnasium\\core.py:311: UserWarning: \u001b[33mWARN: env.single_action_space to get variables from other wrappers is deprecated and will be removed in v1.0, to get this variable you can do `env.unwrapped.single_action_space` for environment variables or `env.get_wrapper_attr('single_action_space')` that will search the reminding wrappers.\u001b[0m\n",
      "\u001b[36m(RolloutWorker pid=6696)\u001b[0m C:\\Users\\TylerLaurie\\AppData\\Local\\Temp\\ipykernel_1364\\2541876935.py:6: DeprecationWarning: `product` is deprecated as of NumPy 1.25.0, and will be removed in NumPy 2.0. Please use `prod` instead.\n"
     ]
    }
   ],
   "source": [
    "config = PPOConfig().training(\n",
    "    gamma = 0.99,\n",
    "    lambda_ = 0.95,\n",
    "    kl_coeff = 1.0,\n",
    "    num_sgd_iter = 32,\n",
    "    lr=0.0003, \n",
    "    vf_loss_coeff = 0.5,\n",
    "#     clip_param = 0.2,\n",
    "    grad_clip_by='norm', \n",
    "    train_batch_size=8192, \n",
    "    sgd_minibatch_size=4096,\n",
    "    grad_clip = 0.5,\n",
    "    model={\n",
    "        'custom_model': 'simple_custom_torch_model',  # Use the simple model\n",
    "        'fcnet_hiddens': [64, 64],\n",
    "        'fcnet_activation': 'relu'\n",
    "    }\n",
    ").environment(env='HalfCheetah-v4'\n",
    ").rollouts(\n",
    "num_rollout_workers = 2,\n",
    "num_envs_per_worker = 4,\n",
    ")\n",
    "\n",
    "algo = config.build()\n",
    "\n",
    "num_iterations = 100\n",
    "rewards = []\n",
    "\n",
    "for i in range(num_iterations):\n",
    "    result = algo.train()\n",
    "    print(f\"Iteration: {i}, Mean Reward: {result['episode_reward_mean']}\")\n",
    "    rewards.append(result['episode_reward_mean'])\n",
    "    \n",
    "ray.shutdown()\n"
   ]
  },
  {
   "cell_type": "code",
   "execution_count": 142,
   "id": "56004715",
   "metadata": {},
   "outputs": [
    {
     "data": {
      "image/png": "[encoded data removed]",
      "text/plain": [
       "<Figure size 640x480 with 1 Axes>"
      ]
     },
     "metadata": {},
     "output_type": "display_data"
    }
   ],
   "source": [
    "plt.plot(rewards)\n",
    "plt.title('Training Progress - Mean Reward per Episode')\n",
    "plt.xlabel('Iteration')\n",
    "plt.ylabel('Mean Reward')\n",
    "# plt.savefig('Basic PPO - HalfCheetah-v4')\n",
    "plt.show()"
   ]
  },
  {
   "cell_type": "code",
   "execution_count": null,
   "id": "e2c75f84",
   "metadata": {},
   "outputs": [],
   "source": []
  },
  {
   "cell_type": "code",
   "execution_count": null,
   "id": "611b5bcd",
   "metadata": {},
   "outputs": [],
   "source": []
  },
  {
   "cell_type": "markdown",
   "id": "d039b7f6",
   "metadata": {},
   "source": [
    "### MOG and Energy Distance"
   ]
  },
  {
   "cell_type": "code",
   "execution_count": 23,
   "id": "736edb5a",
   "metadata": {},
   "outputs": [
    {
     "data": {
      "text/plain": [
       "\"\\nFixes:\\n(1)Target sigmas were not strictly positive: added the elu activation along with a positive constant\\n(2)Fixed the critic network's sigmas to be elu with an added constant isntead of squares\\n(3)Added the cdf of the normal distribution (second term) to the loss function as per GMAC's paper\\n(3->)this fixed the negative distance values that were happening since this should not have happened\\n(3->)due to the way the expectation is taken between dists will always be positive\\n(4)Added internal dispersion back into the energy distance once the delta method was fixed with (3) above\\n(4->)This has an appropriate magnitude for the loss compared to the policy loss so no scaling is needed\\n(5)The result of the four main points above gives results of 1_000+ in the Cheetah-v4 env. after 100 its\\n\""
      ]
     },
     "execution_count": 23,
     "metadata": {},
     "output_type": "execute_result"
    }
   ],
   "source": [
    "global adder\n",
    "adder = 1.000001\n",
    "global num_gaussians\n",
    "num_gaussians = 3\n",
    "\n",
    "class CustomTorchModelMOG(TorchModelV2, nn.Module):\n",
    "    def __init__(self, obs_space, action_space, num_outputs, model_config, name):\n",
    "        super(CustomTorchModelMOG, self).__init__(obs_space, action_space, num_outputs, model_config, name)\n",
    "        \n",
    "        TorchModelV2.__init__(self, obs_space, action_space, num_outputs, model_config, name)\n",
    "        \n",
    "        nn.Module.__init__(self)\n",
    "        \n",
    "        self.actor_fcnet = TorchFC(obs_space, action_space, 2, model_config, name + \"_actor\")\n",
    "        \n",
    "        self.critic_fcnet = TorchFC(obs_space, action_space, num_gaussians*3, model_config, name + \"_critic\")\n",
    "        \n",
    "        self.loss_list = []\n",
    "        \n",
    "        '''\n",
    "        Get the output from fcnet, which is tuple of the new state and the the output of\n",
    "        the FullyConnectedLayer module under ray.rllib.models.torch.fcnet.py\n",
    "        -->This output is from the inherited modelv2 from ray.rllib.models.modelv2.py\n",
    "        ---which consists of outputs from calling self.foward as well as the state_out information\n",
    "        ---which is the current (next) state\n",
    "        \n",
    "\n",
    "        -The input_dict contains complex observations (obs_flat, prev_action, prev_reward, is_training,\n",
    "        -eps_id, agent_id, infos, and t) which will be unpacked by __call__ in modelv2 before being \n",
    "        -passed to the foward pass\n",
    "        \n",
    "        -State includes the list of state tensors with sizes matching those returned by get_initial_state\n",
    "        + the batch dimension\n",
    "        \n",
    "        -seq_lens is a 1d tensor holding input sequence lengths\n",
    "        \n",
    "        -We can access the flattened observation tensor by input_dict['obs_flat']\n",
    "        \n",
    "        **Custom models should override forward and not __call__\n",
    "        **The forward pass has to be performed before the value function call and calling the value\n",
    "        function does not cause another call on the forward pass\n",
    "        \n",
    "        '''\n",
    "        \n",
    "    @OverrideToImplementCustomLogic\n",
    "    def forward(self, input_dict, state, seq_lens):\n",
    "        # Actor forward pass\n",
    "        action_logits, _ = self.actor_fcnet(input_dict, state, seq_lens)\n",
    "        \n",
    "        # Critic forward pass\n",
    "        value_output, _ = self.critic_fcnet(input_dict, state, seq_lens)\n",
    "        \n",
    "        self.value_ouput_tensor = value_output\n",
    "        #this is redudnant since it already outputs a tensor\n",
    "    \n",
    "        '''\n",
    "        -value_output is a function of the number of components we wish to have for the MoGs\n",
    "        --Because of this, it makes sense to have the arrays slice based on the number of components input\n",
    "          from a user\n",
    "        '''\n",
    "        \n",
    "        #fix this with slicing\n",
    "        \n",
    "        elu = torch.nn.ELU()\n",
    "        \n",
    "        i = num_gaussians\n",
    "        means = value_output[:, :i]\n",
    "        self._u = means\n",
    "        \n",
    "        sigmas_prev = value_output[:, i:i*2]\n",
    "        sigmas = elu(sigmas_prev) + adder\n",
    "        self._sigmas = sigmas\n",
    "        \n",
    "        alphas = value_output[:, i*2:]\n",
    "        alphas = torch.nn.functional.softmax(alphas, dim=-1)\n",
    "        self._alphas = alphas\n",
    "        \n",
    "        \n",
    "#         u_1, u_2, u_3, sigma_1, sigma_2, sigma_3, alpha_1, alpha_2, alpha_3 = self.value_ouput_tensor.chunk(9, -1)\n",
    "        \n",
    "#         sigma_1 = elu(sigma_1) + adder\n",
    "#         sigma_2 = elu(sigma_2) + adder\n",
    "#         sigma_3 = elu(sigma_3) + adder\n",
    "        \n",
    "#         alpha_1 = alpha_1.float()\n",
    "#         alpha_2 = alpha_2.float()\n",
    "#         alpha_3 = alpha_3.float()\n",
    "#         alphas = torch.nn.functional.softmax(torch.cat([alpha_1, alpha_2, alpha_3], dim=-1), dim=-1)\n",
    "\n",
    "# #         Store the components for use in the value function\n",
    "#         self._u = [u_1, u_2, u_3]\n",
    "#         self._sigmas = [sigma_1, sigma_2, sigma_3]\n",
    "#         self._alphas = alphas\n",
    "\n",
    "        return action_logits, state\n",
    "\n",
    "    @OverrideToImplementCustomLogic\n",
    "    def value_function(self):\n",
    "        multiply = self._u * self._alphas\n",
    "        values = torch.sum(multiply, dim = 1)\n",
    "        return values\n",
    "    \n",
    "    '''\n",
    "    -We need the sample from MoG as a means of doing the n-step return which is common for reducing\n",
    "    variance, but at the cost of increasing bias...fortunately, betwen 3-7 samples is enough to \n",
    "    approximately have the bias/variance tradeoff nearly equal\n",
    "    --This is important to do to increase convergence and also decrease computation time compared to\n",
    "    the Monte Carlo approach which is sampling a bunch of trajectories\n",
    "    \n",
    "    -From the sample we need to compute the log probabilites of the samples\n",
    "    '''\n",
    "\n",
    "    def predict_gmm_params(self, cur_obs):\n",
    "        input_dict = {'obs': cur_obs}\n",
    "        state = []  \n",
    "        seq_lens = None\n",
    "        value_output, _ = self.critic_fcnet(input_dict, state, seq_lens)\n",
    "        \n",
    "#         self.value_ouput_tensor = torch.tensor(value_output, dtype=torch.int)\n",
    "        # Extract GMM parameters from the critic output\n",
    "        \n",
    "        \n",
    "        elu = torch.nn.ELU()\n",
    "        \n",
    "        i = num_gaussians\n",
    "        means = value_output[:, :i]\n",
    "        sigmas_prev = value_output[:, i:i*2]\n",
    "        sigmas = elu(sigmas_prev) + adder\n",
    "        alphas = value_output[:, i*2:]\n",
    "        alphas = torch.nn.functional.softmax(alphas, dim=-1)\n",
    "        \n",
    "        \n",
    "#        u_1, u_2, u_3, sigma_1, sigma_2, sigma_3, alpha_1, alpha_2, alpha_3 = torch.chunk(torch.tensor(value_output, dtype=torch.float), 9, dim=-1)\n",
    "#         sigma_1 = elu(sigma_1) + adder\n",
    "#         sigma_2 = elu(sigma_2) + adder\n",
    "#         sigma_3 = elu(sigma_3) + adder\n",
    "        \n",
    "#         means = torch.stack([u_1.squeeze(-1), u_2.squeeze(-1), u_3.squeeze(-1)], dim=-1)\n",
    "#         sigmas = torch.stack([sigma_1.squeeze(-1), sigma_2.squeeze(-1), sigma_3.squeeze(-1)], dim=-1)\n",
    "#         alphas = self._alphas\n",
    "        \n",
    "        return means, sigmas, alphas\n",
    "    \n",
    "    def generate_target_gmm_params(self, rewards, next_states, dones, gamma=0.99):\n",
    "\n",
    "        mu_next, sigma_next, w_next = self.predict_gmm_params(next_states)\n",
    "        mu_target = mu_next + (rewards.unsqueeze(-1) * gamma) * (1 - dones.unsqueeze(-1).float())\n",
    "        sigma_target = sigma_next\n",
    "        w_target = w_next\n",
    "    \n",
    "        return mu_target.clone().detach(), sigma_target.clone().detach(), w_target.clone().detach()\n",
    "    \n",
    "    \n",
    "    def compute_energy_distance_mog(self, mu_u, sigma_u, w_u, mu_v, sigma_v, w_v):\n",
    "        \"\"\"\n",
    "        Compute the energy distance between three Gaussian Mixture Models (GMMs) analytically,\n",
    "        including internal dispersion terms.\n",
    "        \"\"\"\n",
    "        N = mu_u.size(0)\n",
    "        N0 = mu_v.size(0)\n",
    "        \n",
    "        \n",
    "        # Calculate delta(U, V)\n",
    "        delta_U_V = self.calculate_delta(mu_u, sigma_u, w_u, mu_v, sigma_v, w_v) / N\n",
    "\n",
    "        # Calculate internal dispersion delta(U, U_0) and delta(V, V_0)\n",
    "        delta_U_U0 = self.calculate_delta(mu_u, sigma_u, w_u, mu_u, sigma_u, w_u) / N\n",
    "        delta_V_V0 = self.calculate_delta(mu_v, sigma_v, w_v, mu_v, sigma_v, w_v) / N\n",
    "        # Compute energy distance\n",
    "#         energy_distance = delta_U_V\n",
    "        energy_distance = 2 * delta_U_V - delta_U_U0 - delta_V_V0\n",
    "#         print(energy_distance)\n",
    "    \n",
    "        return energy_distance\n",
    "    \n",
    "    def log_to_file(self, sum_vars, diff_mu):\n",
    "        with open('variable_logs.csv', 'a') as f:\n",
    "            f.write(f\"{self.log_step}, vars: {sum_vars.mean().item()}, diff mus: {diff_mu.mean().item()}\")\n",
    "\n",
    "    def calculate_delta(self, mu_1, sigma_1, w_1, mu_2, sigma_2, w_2):\n",
    "        \"\"\"\n",
    "        Compute delta for given GMM parameters.\n",
    "        \"\"\"\n",
    "        mu_1_expanded = mu_1.unsqueeze(2)\n",
    "        mu_2_expanded = mu_2.unsqueeze(1)\n",
    "\n",
    "        sigma_1_expanded = sigma_1.unsqueeze(2)\n",
    "        sigma_2_expanded = sigma_2.unsqueeze(1)\n",
    "\n",
    "        w_1_expanded = w_1.unsqueeze(2)\n",
    "        w_2_expanded = w_2.unsqueeze(1) \n",
    "\n",
    "        diff_mu = mu_1_expanded - mu_2_expanded\n",
    "\n",
    "        sum_vars = sigma_1_expanded ** 2 + sigma_2_expanded ** 2\n",
    "\n",
    "        sqrt_2_over_pi = torch.sqrt(torch.tensor(2) / torch.tensor(math.pi))\n",
    "\n",
    "        first_term = sqrt_2_over_pi * torch.sqrt(sum_vars) * torch.exp((-diff_mu**2) / (2*sum_vars))\n",
    "        \n",
    "        #implement log instead of exp\n",
    "        #         normal_dist = Normal(0,1)\n",
    "        #         second_term = diff_mu * (1 - 2 * normal_dist.cdf(-diff_mu / torch.sqrt(2 * sum_vars)))\n",
    "        #implement GELU or ERF from PyTorch\n",
    "        \n",
    "        #took negative out\n",
    "        erf_term = -diff_mu / (sum_vars * torch.sqrt(torch.tensor(2)))\n",
    "        erf = torch.special.erf(erf_term)\n",
    "\n",
    "        second_term = diff_mu * (1 - 2 * erf)\n",
    "\n",
    "        E_Zij = first_term + second_term\n",
    "\n",
    "        delta = torch.sum(w_1_expanded * w_2_expanded * E_Zij, dim=(1,2))\n",
    "\n",
    "        #         print(f\"Custom Loss Component: {delta.sum().item()}, Policy Loss Example: {sqrt_2_over_pi.item()}\")\n",
    "\n",
    "        if self.log_step % 1000 == 0:\n",
    "            self.log_to_file(sum_vars, diff_mu)\n",
    "        self.log_step += 1\n",
    "        \n",
    "        return delta\n",
    "\n",
    "\n",
    "    @OverrideToImplementCustomLogic\n",
    "    def custom_loss(self, policy_loss, sample_batch):\n",
    "        \n",
    "        cur_obs = sample_batch[SampleBatch.CUR_OBS]\n",
    "        next_states = sample_batch[SampleBatch.NEXT_OBS]\n",
    "        rewards = sample_batch[SampleBatch.REWARDS]\n",
    "        dones = sample_batch[SampleBatch.DONES]\n",
    "\n",
    "        mu_pred, sigma_pred, w_pred = self.predict_gmm_params(cur_obs)\n",
    "    \n",
    "        mu_target, sigma_target, w_target = self.generate_target_gmm_params(rewards, next_states, dones, gamma=0.99)\n",
    "\n",
    "        energy_distance = self.compute_energy_distance_mog(mu_pred, sigma_pred, w_pred, \n",
    "                                                           mu_target, sigma_target, w_target)\n",
    "\n",
    "        energy_distance_scalar = torch.mean(energy_distance)\n",
    "\n",
    "        custom_loss_component = 1.0 * energy_distance_scalar\n",
    "        #might need to change this scaling to 2:5ish\n",
    "        modified_policy_loss = [loss + custom_loss_component for loss in policy_loss]\n",
    "\n",
    "        \n",
    "#         print(f\"Modified policy loss: {modified_policy_loss}\")\n",
    "#         print(f\"Custom Loss Component: {custom_loss_component.item()}, Policy Loss Example: {policy_loss[0].item()}\")\n",
    "        \n",
    "        return modified_policy_loss\n",
    "\n",
    "'''\n",
    "Fixes:\n",
    "(1)Target sigmas were not strictly positive: added the elu activation along with a positive constant\n",
    "(2)Fixed the critic network's sigmas to be elu with an added constant isntead of squares\n",
    "(3)Added the cdf of the normal distribution (second term) to the loss function as per GMAC's paper\n",
    "(3->)this fixed the negative distance values that were happening since this should not have happened\n",
    "(3->)due to the way the expectation is taken between dists will always be positive\n",
    "(4)Added internal dispersion back into the energy distance once the delta method was fixed with (3) above\n",
    "(4->)This has an appropriate magnitude for the loss compared to the policy loss so no scaling is needed\n",
    "(5)The result of the four main points above gives results of 1_000+ in the Cheetah-v4 env. after 100 its\n",
    "'''\n"
   ]
  },
  {
   "cell_type": "code",
   "execution_count": 24,
   "id": "8ccea24b",
   "metadata": {},
   "outputs": [],
   "source": [
    "ModelCatalog.register_custom_model(\"custom_torch_model_mog\", CustomTorchModelMOG)"
   ]
  },
  {
   "cell_type": "code",
   "execution_count": 25,
   "id": "3935974d",
   "metadata": {
    "scrolled": true
   },
   "outputs": [
    {
     "name": "stderr",
     "output_type": "stream",
     "text": [
      "2024-02-13 10:40:00,961\tINFO worker.py:1715 -- Started a local Ray instance. View the dashboard at \u001b[1m\u001b[32mhttp://127.0.0.1:8266 \u001b[39m\u001b[22m\n",
      "\u001b[36m(pid=12796)\u001b[0m C:\\Users\\TylerLaurie\\anaconda3\\Lib\\site-packages\\paramiko\\transport.py:219: CryptographyDeprecationWarning: Blowfish has been deprecated\n",
      "\u001b[36m(pid=12796)\u001b[0m   \"class\": algorithms.Blowfish,\n",
      "\u001b[36m(RolloutWorker pid=12796)\u001b[0m C:\\Users\\TylerLaurie\\anaconda3\\Lib\\site-packages\\gymnasium\\core.py:311: UserWarning: \u001b[33mWARN: env.single_observation_space to get variables from other wrappers is deprecated and will be removed in v1.0, to get this variable you can do `env.unwrapped.single_observation_space` for environment variables or `env.get_wrapper_attr('single_observation_space')` that will search the reminding wrappers.\u001b[0m\n",
      "\u001b[36m(RolloutWorker pid=12796)\u001b[0m   logger.warn(\n",
      "\u001b[36m(RolloutWorker pid=12796)\u001b[0m C:\\Users\\TylerLaurie\\anaconda3\\Lib\\site-packages\\gymnasium\\core.py:311: UserWarning: \u001b[33mWARN: env.single_action_space to get variables from other wrappers is deprecated and will be removed in v1.0, to get this variable you can do `env.unwrapped.single_action_space` for environment variables or `env.get_wrapper_attr('single_action_space')` that will search the reminding wrappers.\u001b[0m\n",
      "\u001b[36m(RolloutWorker pid=12796)\u001b[0m   logger.warn(\n",
      "\u001b[36m(RolloutWorker pid=12796)\u001b[0m C:\\Users\\TylerLaurie\\AppData\\Local\\Temp\\ipykernel_32828\\3093250726.py:14: DeprecationWarning: `product` is deprecated as of NumPy 1.25.0, and will be removed in NumPy 2.0. Please use `prod` instead.\n",
      "\u001b[36m(RolloutWorker pid=12796)\u001b[0m C:\\Users\\TylerLaurie\\AppData\\Local\\Temp\\ipykernel_32828\\3093250726.py:16: DeprecationWarning: `product` is deprecated as of NumPy 1.25.0, and will be removed in NumPy 2.0. Please use `prod` instead.\n",
      "C:\\Users\\TylerLaurie\\AppData\\Local\\Temp\\ipykernel_32828\\3093250726.py:14: DeprecationWarning: `product` is deprecated as of NumPy 1.25.0, and will be removed in NumPy 2.0. Please use `prod` instead.\n",
      "  self.actor_fcnet = TorchFC(obs_space, action_space, 2, model_config, name + \"_actor\")\n",
      "C:\\Users\\TylerLaurie\\AppData\\Local\\Temp\\ipykernel_32828\\3093250726.py:16: DeprecationWarning: `product` is deprecated as of NumPy 1.25.0, and will be removed in NumPy 2.0. Please use `prod` instead.\n",
      "  self.critic_fcnet = TorchFC(obs_space, action_space, num_gaussians*3, model_config, name + \"_critic\")\n",
      "2024-02-13 10:40:15,929\tINFO trainable.py:164 -- Trainable.setup took 20.285 seconds. If your trainable is slow to initialize, consider setting reuse_actors=True to reduce actor creation overheads.\n",
      "2024-02-13 10:40:15,933\tWARNING util.py:62 -- Install gputil for GPU system monitoring.\n"
     ]
    },
    {
     "ename": "ValueError",
     "evalue": "'list' object has no attribute 'size'\n tracebackTraceback (most recent call last):\n  File \"C:\\Users\\TylerLaurie\\anaconda3\\Lib\\site-packages\\ray\\rllib\\policy\\torch_policy_v2.py\", line 1375, in _worker\n    loss_out = model.custom_loss(loss_out, sample_batch)\n               ^^^^^^^^^^^^^^^^^^^^^^^^^^^^^^^^^^^^^^^^^\n  File \"C:\\Users\\TylerLaurie\\AppData\\Local\\Temp\\ipykernel_32828\\3093250726.py\", line 238, in custom_loss\n    print(f\"Modified policy loss: {modified_policy_loss.size()}\")\n                                   ^^^^^^^^^^^^^^^^^^^^^^^^^\nAttributeError: 'list' object has no attribute 'size'\n\nIn tower 0 on device cpu",
     "output_type": "error",
     "traceback": [
      "\u001b[1;31m---------------------------------------------------------------------------\u001b[0m",
      "\u001b[1;31mAttributeError\u001b[0m                            Traceback (most recent call last)",
      "File \u001b[1;32m~\\anaconda3\\Lib\\site-packages\\ray\\rllib\\policy\\torch_policy_v2.py:1375\u001b[0m, in \u001b[0;36mTorchPolicyV2._multi_gpu_parallel_grad_calc.<locals>._worker\u001b[1;34m(shard_idx, model, sample_batch, device)\u001b[0m\n\u001b[0;32m   1374\u001b[0m \u001b[38;5;28;01mif\u001b[39;00m \u001b[38;5;28mhasattr\u001b[39m(model, \u001b[38;5;124m\"\u001b[39m\u001b[38;5;124mcustom_loss\u001b[39m\u001b[38;5;124m\"\u001b[39m):\n\u001b[1;32m-> 1375\u001b[0m     loss_out \u001b[38;5;241m=\u001b[39m model\u001b[38;5;241m.\u001b[39mcustom_loss(loss_out, sample_batch)\n\u001b[0;32m   1377\u001b[0m \u001b[38;5;28;01massert\u001b[39;00m \u001b[38;5;28mlen\u001b[39m(loss_out) \u001b[38;5;241m==\u001b[39m \u001b[38;5;28mlen\u001b[39m(\u001b[38;5;28mself\u001b[39m\u001b[38;5;241m.\u001b[39m_optimizers)\n",
      "Cell \u001b[1;32mIn[23], line 238\u001b[0m, in \u001b[0;36mCustomTorchModelMOG.custom_loss\u001b[1;34m(self, policy_loss, sample_batch)\u001b[0m\n\u001b[0;32m    236\u001b[0m         modified_policy_loss \u001b[38;5;241m=\u001b[39m [loss \u001b[38;5;241m+\u001b[39m custom_loss_component \u001b[38;5;28;01mfor\u001b[39;00m loss \u001b[38;5;129;01min\u001b[39;00m policy_loss]\n\u001b[1;32m--> 238\u001b[0m         \u001b[38;5;28mprint\u001b[39m(\u001b[38;5;124mf\u001b[39m\u001b[38;5;124m\"\u001b[39m\u001b[38;5;124mModified policy loss: \u001b[39m\u001b[38;5;132;01m{\u001b[39;00mmodified_policy_loss\u001b[38;5;241m.\u001b[39msize()\u001b[38;5;132;01m}\u001b[39;00m\u001b[38;5;124m\"\u001b[39m)\n\u001b[0;32m    240\u001b[0m \u001b[38;5;66;03m#         print(f\"Modified policy loss: {modified_policy_loss}\")\u001b[39;00m\n\u001b[0;32m    241\u001b[0m \u001b[38;5;66;03m#         print(f\"Custom Loss Component: {custom_loss_component.item()}, Policy Loss Example: {policy_loss[0].item()}\")\u001b[39;00m\n",
      "\u001b[1;31mAttributeError\u001b[0m: 'list' object has no attribute 'size'",
      "\nThe above exception was the direct cause of the following exception:\n",
      "\u001b[1;31mValueError\u001b[0m                                Traceback (most recent call last)",
      "Cell \u001b[1;32mIn[25], line 33\u001b[0m\n\u001b[0;32m     30\u001b[0m rewards_internal_dispersion \u001b[38;5;241m=\u001b[39m []\n\u001b[0;32m     32\u001b[0m \u001b[38;5;28;01mfor\u001b[39;00m i \u001b[38;5;129;01min\u001b[39;00m \u001b[38;5;28mrange\u001b[39m(num_iterations):\n\u001b[1;32m---> 33\u001b[0m     result \u001b[38;5;241m=\u001b[39m algo\u001b[38;5;241m.\u001b[39mtrain()\n\u001b[0;32m     34\u001b[0m     \u001b[38;5;28mprint\u001b[39m(\u001b[38;5;124mf\u001b[39m\u001b[38;5;124m\"\u001b[39m\u001b[38;5;124mIteration: \u001b[39m\u001b[38;5;132;01m{\u001b[39;00mi\u001b[38;5;132;01m}\u001b[39;00m\u001b[38;5;124m, Mean Reward: \u001b[39m\u001b[38;5;132;01m{\u001b[39;00mresult[\u001b[38;5;124m'\u001b[39m\u001b[38;5;124mepisode_reward_mean\u001b[39m\u001b[38;5;124m'\u001b[39m]\u001b[38;5;132;01m}\u001b[39;00m\u001b[38;5;124m\"\u001b[39m)\n\u001b[0;32m     35\u001b[0m     rewards_internal_dispersion\u001b[38;5;241m.\u001b[39mappend(result[\u001b[38;5;124m'\u001b[39m\u001b[38;5;124mepisode_reward_mean\u001b[39m\u001b[38;5;124m'\u001b[39m])\n",
      "File \u001b[1;32m~\\anaconda3\\Lib\\site-packages\\ray\\tune\\trainable\\trainable.py:342\u001b[0m, in \u001b[0;36mTrainable.train\u001b[1;34m(self)\u001b[0m\n\u001b[0;32m    340\u001b[0m \u001b[38;5;28;01mexcept\u001b[39;00m \u001b[38;5;167;01mException\u001b[39;00m \u001b[38;5;28;01mas\u001b[39;00m e:\n\u001b[0;32m    341\u001b[0m     skipped \u001b[38;5;241m=\u001b[39m skip_exceptions(e)\n\u001b[1;32m--> 342\u001b[0m     \u001b[38;5;28;01mraise\u001b[39;00m skipped \u001b[38;5;28;01mfrom\u001b[39;00m \u001b[38;5;21;01mexception_cause\u001b[39;00m(skipped)\n\u001b[0;32m    344\u001b[0m \u001b[38;5;28;01massert\u001b[39;00m \u001b[38;5;28misinstance\u001b[39m(result, \u001b[38;5;28mdict\u001b[39m), \u001b[38;5;124m\"\u001b[39m\u001b[38;5;124mstep() needs to return a dict.\u001b[39m\u001b[38;5;124m\"\u001b[39m\n\u001b[0;32m    346\u001b[0m \u001b[38;5;66;03m# We do not modify internal state nor update this result if duplicate.\u001b[39;00m\n",
      "File \u001b[1;32m~\\anaconda3\\Lib\\site-packages\\ray\\tune\\trainable\\trainable.py:339\u001b[0m, in \u001b[0;36mTrainable.train\u001b[1;34m(self)\u001b[0m\n\u001b[0;32m    337\u001b[0m start \u001b[38;5;241m=\u001b[39m time\u001b[38;5;241m.\u001b[39mtime()\n\u001b[0;32m    338\u001b[0m \u001b[38;5;28;01mtry\u001b[39;00m:\n\u001b[1;32m--> 339\u001b[0m     result \u001b[38;5;241m=\u001b[39m \u001b[38;5;28mself\u001b[39m\u001b[38;5;241m.\u001b[39mstep()\n\u001b[0;32m    340\u001b[0m \u001b[38;5;28;01mexcept\u001b[39;00m \u001b[38;5;167;01mException\u001b[39;00m \u001b[38;5;28;01mas\u001b[39;00m e:\n\u001b[0;32m    341\u001b[0m     skipped \u001b[38;5;241m=\u001b[39m skip_exceptions(e)\n",
      "File \u001b[1;32m~\\anaconda3\\Lib\\site-packages\\ray\\rllib\\algorithms\\algorithm.py:852\u001b[0m, in \u001b[0;36mAlgorithm.step\u001b[1;34m(self)\u001b[0m\n\u001b[0;32m    844\u001b[0m     (\n\u001b[0;32m    845\u001b[0m         results,\n\u001b[0;32m    846\u001b[0m         train_iter_ctx,\n\u001b[0;32m    847\u001b[0m     ) \u001b[38;5;241m=\u001b[39m \u001b[38;5;28mself\u001b[39m\u001b[38;5;241m.\u001b[39m_run_one_training_iteration_and_evaluation_in_parallel()\n\u001b[0;32m    848\u001b[0m \u001b[38;5;66;03m# - No evaluation necessary, just run the next training iteration.\u001b[39;00m\n\u001b[0;32m    849\u001b[0m \u001b[38;5;66;03m# - We have to evaluate in this training iteration, but no parallelism ->\u001b[39;00m\n\u001b[0;32m    850\u001b[0m \u001b[38;5;66;03m#   evaluate after the training iteration is entirely done.\u001b[39;00m\n\u001b[0;32m    851\u001b[0m \u001b[38;5;28;01melse\u001b[39;00m:\n\u001b[1;32m--> 852\u001b[0m     results, train_iter_ctx \u001b[38;5;241m=\u001b[39m \u001b[38;5;28mself\u001b[39m\u001b[38;5;241m.\u001b[39m_run_one_training_iteration()\n\u001b[0;32m    854\u001b[0m \u001b[38;5;66;03m# Sequential: Train (already done above), then evaluate.\u001b[39;00m\n\u001b[0;32m    855\u001b[0m \u001b[38;5;28;01mif\u001b[39;00m evaluate_this_iter \u001b[38;5;129;01mand\u001b[39;00m \u001b[38;5;129;01mnot\u001b[39;00m \u001b[38;5;28mself\u001b[39m\u001b[38;5;241m.\u001b[39mconfig\u001b[38;5;241m.\u001b[39mevaluation_parallel_to_training:\n",
      "File \u001b[1;32m~\\anaconda3\\Lib\\site-packages\\ray\\rllib\\algorithms\\algorithm.py:3042\u001b[0m, in \u001b[0;36mAlgorithm._run_one_training_iteration\u001b[1;34m(self)\u001b[0m\n\u001b[0;32m   3040\u001b[0m \u001b[38;5;28;01mwith\u001b[39;00m \u001b[38;5;28mself\u001b[39m\u001b[38;5;241m.\u001b[39m_timers[TRAINING_ITERATION_TIMER]:\n\u001b[0;32m   3041\u001b[0m     \u001b[38;5;28;01mif\u001b[39;00m \u001b[38;5;28mself\u001b[39m\u001b[38;5;241m.\u001b[39mconfig\u001b[38;5;241m.\u001b[39m_disable_execution_plan_api:\n\u001b[1;32m-> 3042\u001b[0m         results \u001b[38;5;241m=\u001b[39m \u001b[38;5;28mself\u001b[39m\u001b[38;5;241m.\u001b[39mtraining_step()\n\u001b[0;32m   3043\u001b[0m     \u001b[38;5;28;01melse\u001b[39;00m:\n\u001b[0;32m   3044\u001b[0m         results \u001b[38;5;241m=\u001b[39m \u001b[38;5;28mnext\u001b[39m(\u001b[38;5;28mself\u001b[39m\u001b[38;5;241m.\u001b[39mtrain_exec_impl)\n",
      "File \u001b[1;32m~\\anaconda3\\Lib\\site-packages\\ray\\rllib\\algorithms\\ppo\\ppo.py:464\u001b[0m, in \u001b[0;36mPPO.training_step\u001b[1;34m(self)\u001b[0m\n\u001b[0;32m    462\u001b[0m     train_results \u001b[38;5;241m=\u001b[39m train_one_step(\u001b[38;5;28mself\u001b[39m, train_batch)\n\u001b[0;32m    463\u001b[0m \u001b[38;5;28;01melse\u001b[39;00m:\n\u001b[1;32m--> 464\u001b[0m     train_results \u001b[38;5;241m=\u001b[39m multi_gpu_train_one_step(\u001b[38;5;28mself\u001b[39m, train_batch)\n\u001b[0;32m    466\u001b[0m \u001b[38;5;28;01mif\u001b[39;00m \u001b[38;5;28mself\u001b[39m\u001b[38;5;241m.\u001b[39mconfig\u001b[38;5;241m.\u001b[39m_enable_new_api_stack:\n\u001b[0;32m    467\u001b[0m     \u001b[38;5;66;03m# The train results's loss keys are pids to their loss values. But we also\u001b[39;00m\n\u001b[0;32m    468\u001b[0m     \u001b[38;5;66;03m# return a total_loss key at the same level as the pid keys. So we need to\u001b[39;00m\n\u001b[1;32m   (...)\u001b[0m\n\u001b[0;32m    471\u001b[0m     \u001b[38;5;66;03m#  passing medium to infer which policies to update. We could use\u001b[39;00m\n\u001b[0;32m    472\u001b[0m     \u001b[38;5;66;03m#  policies_to_train variable that is given by the user to infer this.\u001b[39;00m\n\u001b[0;32m    473\u001b[0m     policies_to_update \u001b[38;5;241m=\u001b[39m \u001b[38;5;28mset\u001b[39m(train_results\u001b[38;5;241m.\u001b[39mkeys()) \u001b[38;5;241m-\u001b[39m {ALL_MODULES}\n",
      "File \u001b[1;32m~\\anaconda3\\Lib\\site-packages\\ray\\rllib\\execution\\train_ops.py:176\u001b[0m, in \u001b[0;36mmulti_gpu_train_one_step\u001b[1;34m(algorithm, train_batch)\u001b[0m\n\u001b[0;32m    171\u001b[0m         permutation \u001b[38;5;241m=\u001b[39m np\u001b[38;5;241m.\u001b[39mrandom\u001b[38;5;241m.\u001b[39mpermutation(num_batches)\n\u001b[0;32m    172\u001b[0m         \u001b[38;5;28;01mfor\u001b[39;00m batch_index \u001b[38;5;129;01min\u001b[39;00m \u001b[38;5;28mrange\u001b[39m(num_batches):\n\u001b[0;32m    173\u001b[0m             \u001b[38;5;66;03m# Learn on the pre-loaded data in the buffer.\u001b[39;00m\n\u001b[0;32m    174\u001b[0m             \u001b[38;5;66;03m# Note: For minibatch SGD, the data is an offset into\u001b[39;00m\n\u001b[0;32m    175\u001b[0m             \u001b[38;5;66;03m# the pre-loaded entire train batch.\u001b[39;00m\n\u001b[1;32m--> 176\u001b[0m             results \u001b[38;5;241m=\u001b[39m policy\u001b[38;5;241m.\u001b[39mlearn_on_loaded_batch(\n\u001b[0;32m    177\u001b[0m                 permutation[batch_index] \u001b[38;5;241m*\u001b[39m per_device_batch_size, buffer_index\u001b[38;5;241m=\u001b[39m\u001b[38;5;241m0\u001b[39m\n\u001b[0;32m    178\u001b[0m             )\n\u001b[0;32m    180\u001b[0m             learner_info_builder\u001b[38;5;241m.\u001b[39madd_learn_on_batch_results(results, policy_id)\n\u001b[0;32m    182\u001b[0m \u001b[38;5;66;03m# Tower reduce and finalize results.\u001b[39;00m\n",
      "File \u001b[1;32m~\\anaconda3\\Lib\\site-packages\\ray\\rllib\\policy\\torch_policy_v2.py:852\u001b[0m, in \u001b[0;36mTorchPolicyV2.learn_on_loaded_batch\u001b[1;34m(self, offset, buffer_index)\u001b[0m\n\u001b[0;32m    849\u001b[0m     \u001b[38;5;28;01melse\u001b[39;00m:\n\u001b[0;32m    850\u001b[0m         batch \u001b[38;5;241m=\u001b[39m \u001b[38;5;28mself\u001b[39m\u001b[38;5;241m.\u001b[39m_loaded_batches[\u001b[38;5;241m0\u001b[39m][\u001b[38;5;241m0\u001b[39m][offset : offset \u001b[38;5;241m+\u001b[39m device_batch_size]\n\u001b[1;32m--> 852\u001b[0m     \u001b[38;5;28;01mreturn\u001b[39;00m \u001b[38;5;28mself\u001b[39m\u001b[38;5;241m.\u001b[39mlearn_on_batch(batch)\n\u001b[0;32m    854\u001b[0m \u001b[38;5;28;01mif\u001b[39;00m \u001b[38;5;28mlen\u001b[39m(\u001b[38;5;28mself\u001b[39m\u001b[38;5;241m.\u001b[39mdevices) \u001b[38;5;241m>\u001b[39m \u001b[38;5;241m1\u001b[39m:\n\u001b[0;32m    855\u001b[0m     \u001b[38;5;66;03m# Copy weights of main model (tower-0) to all other towers.\u001b[39;00m\n\u001b[0;32m    856\u001b[0m     state_dict \u001b[38;5;241m=\u001b[39m \u001b[38;5;28mself\u001b[39m\u001b[38;5;241m.\u001b[39mmodel\u001b[38;5;241m.\u001b[39mstate_dict()\n",
      "File \u001b[1;32m~\\anaconda3\\Lib\\site-packages\\ray\\rllib\\utils\\threading.py:24\u001b[0m, in \u001b[0;36mwith_lock.<locals>.wrapper\u001b[1;34m(self, *a, **k)\u001b[0m\n\u001b[0;32m     22\u001b[0m \u001b[38;5;28;01mtry\u001b[39;00m:\n\u001b[0;32m     23\u001b[0m     \u001b[38;5;28;01mwith\u001b[39;00m \u001b[38;5;28mself\u001b[39m\u001b[38;5;241m.\u001b[39m_lock:\n\u001b[1;32m---> 24\u001b[0m         \u001b[38;5;28;01mreturn\u001b[39;00m func(\u001b[38;5;28mself\u001b[39m, \u001b[38;5;241m*\u001b[39ma, \u001b[38;5;241m*\u001b[39m\u001b[38;5;241m*\u001b[39mk)\n\u001b[0;32m     25\u001b[0m \u001b[38;5;28;01mexcept\u001b[39;00m \u001b[38;5;167;01mAttributeError\u001b[39;00m \u001b[38;5;28;01mas\u001b[39;00m e:\n\u001b[0;32m     26\u001b[0m     \u001b[38;5;28;01mif\u001b[39;00m \u001b[38;5;124m\"\u001b[39m\u001b[38;5;124mhas no attribute \u001b[39m\u001b[38;5;124m'\u001b[39m\u001b[38;5;124m_lock\u001b[39m\u001b[38;5;124m'\u001b[39m\u001b[38;5;124m\"\u001b[39m \u001b[38;5;129;01min\u001b[39;00m e\u001b[38;5;241m.\u001b[39margs[\u001b[38;5;241m0\u001b[39m]:\n",
      "File \u001b[1;32m~\\anaconda3\\Lib\\site-packages\\ray\\rllib\\policy\\torch_policy_v2.py:730\u001b[0m, in \u001b[0;36mTorchPolicyV2.learn_on_batch\u001b[1;34m(self, postprocessed_batch)\u001b[0m\n\u001b[0;32m    724\u001b[0m \u001b[38;5;28mself\u001b[39m\u001b[38;5;241m.\u001b[39mcallbacks\u001b[38;5;241m.\u001b[39mon_learn_on_batch(\n\u001b[0;32m    725\u001b[0m     policy\u001b[38;5;241m=\u001b[39m\u001b[38;5;28mself\u001b[39m, train_batch\u001b[38;5;241m=\u001b[39mpostprocessed_batch, result\u001b[38;5;241m=\u001b[39mlearn_stats\n\u001b[0;32m    726\u001b[0m )\n\u001b[0;32m    728\u001b[0m \u001b[38;5;66;03m# Compute gradients (will calculate all losses and `backward()`\u001b[39;00m\n\u001b[0;32m    729\u001b[0m \u001b[38;5;66;03m# them to get the grads).\u001b[39;00m\n\u001b[1;32m--> 730\u001b[0m grads, fetches \u001b[38;5;241m=\u001b[39m \u001b[38;5;28mself\u001b[39m\u001b[38;5;241m.\u001b[39mcompute_gradients(postprocessed_batch)\n\u001b[0;32m    732\u001b[0m \u001b[38;5;66;03m# Step the optimizers.\u001b[39;00m\n\u001b[0;32m    733\u001b[0m \u001b[38;5;28mself\u001b[39m\u001b[38;5;241m.\u001b[39mapply_gradients(_directStepOptimizerSingleton)\n",
      "File \u001b[1;32m~\\anaconda3\\Lib\\site-packages\\ray\\rllib\\utils\\threading.py:24\u001b[0m, in \u001b[0;36mwith_lock.<locals>.wrapper\u001b[1;34m(self, *a, **k)\u001b[0m\n\u001b[0;32m     22\u001b[0m \u001b[38;5;28;01mtry\u001b[39;00m:\n\u001b[0;32m     23\u001b[0m     \u001b[38;5;28;01mwith\u001b[39;00m \u001b[38;5;28mself\u001b[39m\u001b[38;5;241m.\u001b[39m_lock:\n\u001b[1;32m---> 24\u001b[0m         \u001b[38;5;28;01mreturn\u001b[39;00m func(\u001b[38;5;28mself\u001b[39m, \u001b[38;5;241m*\u001b[39ma, \u001b[38;5;241m*\u001b[39m\u001b[38;5;241m*\u001b[39mk)\n\u001b[0;32m     25\u001b[0m \u001b[38;5;28;01mexcept\u001b[39;00m \u001b[38;5;167;01mAttributeError\u001b[39;00m \u001b[38;5;28;01mas\u001b[39;00m e:\n\u001b[0;32m     26\u001b[0m     \u001b[38;5;28;01mif\u001b[39;00m \u001b[38;5;124m\"\u001b[39m\u001b[38;5;124mhas no attribute \u001b[39m\u001b[38;5;124m'\u001b[39m\u001b[38;5;124m_lock\u001b[39m\u001b[38;5;124m'\u001b[39m\u001b[38;5;124m\"\u001b[39m \u001b[38;5;129;01min\u001b[39;00m e\u001b[38;5;241m.\u001b[39margs[\u001b[38;5;241m0\u001b[39m]:\n",
      "File \u001b[1;32m~\\anaconda3\\Lib\\site-packages\\ray\\rllib\\policy\\torch_policy_v2.py:946\u001b[0m, in \u001b[0;36mTorchPolicyV2.compute_gradients\u001b[1;34m(self, postprocessed_batch)\u001b[0m\n\u001b[0;32m    943\u001b[0m \u001b[38;5;28mself\u001b[39m\u001b[38;5;241m.\u001b[39m_lazy_tensor_dict(postprocessed_batch, device\u001b[38;5;241m=\u001b[39m\u001b[38;5;28mself\u001b[39m\u001b[38;5;241m.\u001b[39mdevices[\u001b[38;5;241m0\u001b[39m])\n\u001b[0;32m    945\u001b[0m \u001b[38;5;66;03m# Do the (maybe parallelized) gradient calculation step.\u001b[39;00m\n\u001b[1;32m--> 946\u001b[0m tower_outputs \u001b[38;5;241m=\u001b[39m \u001b[38;5;28mself\u001b[39m\u001b[38;5;241m.\u001b[39m_multi_gpu_parallel_grad_calc([postprocessed_batch])\n\u001b[0;32m    948\u001b[0m all_grads, grad_info \u001b[38;5;241m=\u001b[39m tower_outputs[\u001b[38;5;241m0\u001b[39m]\n\u001b[0;32m    950\u001b[0m grad_info[\u001b[38;5;124m\"\u001b[39m\u001b[38;5;124mallreduce_latency\u001b[39m\u001b[38;5;124m\"\u001b[39m] \u001b[38;5;241m/\u001b[39m\u001b[38;5;241m=\u001b[39m \u001b[38;5;28mlen\u001b[39m(\u001b[38;5;28mself\u001b[39m\u001b[38;5;241m.\u001b[39m_optimizers)\n",
      "File \u001b[1;32m~\\anaconda3\\Lib\\site-packages\\ray\\rllib\\policy\\torch_policy_v2.py:1454\u001b[0m, in \u001b[0;36mTorchPolicyV2._multi_gpu_parallel_grad_calc\u001b[1;34m(self, sample_batches)\u001b[0m\n\u001b[0;32m   1452\u001b[0m         last_result \u001b[38;5;241m=\u001b[39m results[\u001b[38;5;28mlen\u001b[39m(results) \u001b[38;5;241m-\u001b[39m \u001b[38;5;241m1\u001b[39m]\n\u001b[0;32m   1453\u001b[0m         \u001b[38;5;28;01mif\u001b[39;00m \u001b[38;5;28misinstance\u001b[39m(last_result[\u001b[38;5;241m0\u001b[39m], \u001b[38;5;167;01mValueError\u001b[39;00m):\n\u001b[1;32m-> 1454\u001b[0m             \u001b[38;5;28;01mraise\u001b[39;00m last_result[\u001b[38;5;241m0\u001b[39m] \u001b[38;5;28;01mfrom\u001b[39;00m \u001b[38;5;21;01mlast_result\u001b[39;00m[\u001b[38;5;241m1\u001b[39m]\n\u001b[0;32m   1455\u001b[0m \u001b[38;5;66;03m# Multi device (GPU) case: Parallelize via threads.\u001b[39;00m\n\u001b[0;32m   1456\u001b[0m \u001b[38;5;28;01melse\u001b[39;00m:\n\u001b[0;32m   1457\u001b[0m     threads \u001b[38;5;241m=\u001b[39m [\n\u001b[0;32m   1458\u001b[0m         threading\u001b[38;5;241m.\u001b[39mThread(\n\u001b[0;32m   1459\u001b[0m             target\u001b[38;5;241m=\u001b[39m_worker, args\u001b[38;5;241m=\u001b[39m(shard_idx, model, sample_batch, device)\n\u001b[1;32m   (...)\u001b[0m\n\u001b[0;32m   1463\u001b[0m         )\n\u001b[0;32m   1464\u001b[0m     ]\n",
      "\u001b[1;31mValueError\u001b[0m: 'list' object has no attribute 'size'\n tracebackTraceback (most recent call last):\n  File \"C:\\Users\\TylerLaurie\\anaconda3\\Lib\\site-packages\\ray\\rllib\\policy\\torch_policy_v2.py\", line 1375, in _worker\n    loss_out = model.custom_loss(loss_out, sample_batch)\n               ^^^^^^^^^^^^^^^^^^^^^^^^^^^^^^^^^^^^^^^^^\n  File \"C:\\Users\\TylerLaurie\\AppData\\Local\\Temp\\ipykernel_32828\\3093250726.py\", line 238, in custom_loss\n    print(f\"Modified policy loss: {modified_policy_loss.size()}\")\n                                   ^^^^^^^^^^^^^^^^^^^^^^^^^\nAttributeError: 'list' object has no attribute 'size'\n\nIn tower 0 on device cpu"
     ]
    }
   ],
   "source": [
    "config = PPOConfig().training(\n",
    "    gamma = 0.99,\n",
    "    lambda_ = 0.95,\n",
    "    kl_coeff = 0.5,\n",
    "    num_sgd_iter =32,\n",
    "    lr= 0.0001, \n",
    "    vf_loss_coeff = 1.0,\n",
    "    vf_clip_param = 1.0,\n",
    "#     clip_param = 0.2,\n",
    "    clip_param = 0.4,\n",
    "    grad_clip_by='norm', \n",
    "    train_batch_size=8192, \n",
    "    sgd_minibatch_size=2048,\n",
    "    grad_clip = 1.0,\n",
    "    model={'custom_model': 'custom_torch_model_mog', \n",
    "    'vf_share_layers': False, 'fcnet_hiddens': [256,256],'fcnet_activation': 'silu'}\n",
    ").environment(env='HalfCheetah-v4'\n",
    ").rollouts(\n",
    "num_rollout_workers = 2,\n",
    "num_envs_per_worker = 4,\n",
    ")\n",
    "\n",
    "num_iterations = 2\n",
    "\n",
    "\n",
    "\n",
    "\n",
    "\n",
    "algo = config.build()\n",
    "rewards_internal_dispersion = []\n",
    "\n",
    "for i in range(num_iterations):\n",
    "    result = algo.train()\n",
    "    print(f\"Iteration: {i}, Mean Reward: {result['episode_reward_mean']}\")\n",
    "    rewards_internal_dispersion.append(result['episode_reward_mean'])\n",
    "    \n",
    "ray.shutdown()"
   ]
  },
  {
   "cell_type": "markdown",
   "id": "6a8bf571",
   "metadata": {},
   "source": [
    "### first tune parameter search for vf_loss_coefficient gave vf_loss_coefficient = 0.5 as the best for 0.1, 0.5, 1.0"
   ]
  },
  {
   "cell_type": "code",
   "execution_count": 14,
   "id": "b29ce8df",
   "metadata": {},
   "outputs": [],
   "source": []
  },
  {
   "cell_type": "code",
   "execution_count": 60,
   "id": "04e3572d",
   "metadata": {},
   "outputs": [
    {
     "data": {
      "image/png": "[encoded data removed]",
      "text/plain": [
       "<Figure size 640x480 with 1 Axes>"
      ]
     },
     "metadata": {},
     "output_type": "display_data"
    }
   ],
   "source": [
    "plt.plot(rewards_internal_dispersion)\n",
    "plt.title('Training Progress - Mean Reward per Episode')\n",
    "plt.xlabel('Iteration')\n",
    "plt.ylabel('Mean Reward')\n",
    "# plt.savefig('MOG and Energy Distance - HalfCheetah-v4')\n",
    "plt.show()"
   ]
  },
  {
   "cell_type": "code",
   "execution_count": 38,
   "id": "a64e176a",
   "metadata": {},
   "outputs": [],
   "source": [
    "import plotly.express as px\n",
    "import plotly.graph_objects as go\n",
    "import kaleido"
   ]
  },
  {
   "cell_type": "code",
   "execution_count": 39,
   "id": "c810d069",
   "metadata": {},
   "outputs": [
    {
     "ename": "NameError",
     "evalue": "name 'rewards' is not defined",
     "output_type": "error",
     "traceback": [
      "\u001b[1;31m---------------------------------------------------------------------------\u001b[0m",
      "\u001b[1;31mNameError\u001b[0m                                 Traceback (most recent call last)",
      "Cell \u001b[1;32mIn[39], line 3\u001b[0m\n\u001b[0;32m      1\u001b[0m fig \u001b[38;5;241m=\u001b[39m go\u001b[38;5;241m.\u001b[39mFigure()\n\u001b[1;32m----> 3\u001b[0m fig\u001b[38;5;241m.\u001b[39madd_trace(go\u001b[38;5;241m.\u001b[39mScatter(y \u001b[38;5;241m=\u001b[39m rewards, mode \u001b[38;5;241m=\u001b[39m \u001b[38;5;124m'\u001b[39m\u001b[38;5;124mlines\u001b[39m\u001b[38;5;124m'\u001b[39m, name \u001b[38;5;241m=\u001b[39m \u001b[38;5;124m'\u001b[39m\u001b[38;5;124mRewards\u001b[39m\u001b[38;5;124m'\u001b[39m))\n\u001b[0;32m      4\u001b[0m fig\u001b[38;5;241m.\u001b[39madd_trace(go\u001b[38;5;241m.\u001b[39mScatter(y \u001b[38;5;241m=\u001b[39m rewards_internal_dispersion, mode \u001b[38;5;241m=\u001b[39m \u001b[38;5;124m'\u001b[39m\u001b[38;5;124mlines\u001b[39m\u001b[38;5;124m'\u001b[39m, name \u001b[38;5;241m=\u001b[39m \u001b[38;5;124m'\u001b[39m\u001b[38;5;124mMoG Rewards\u001b[39m\u001b[38;5;124m'\u001b[39m))\n\u001b[0;32m      6\u001b[0m fig\u001b[38;5;241m.\u001b[39mupdate_layout(title_text\u001b[38;5;241m=\u001b[39m\u001b[38;5;124m\"\u001b[39m\u001b[38;5;124mBasic PPO vs MoG PPO\u001b[39m\u001b[38;5;124m\"\u001b[39m, xaxis_title \u001b[38;5;241m=\u001b[39m \u001b[38;5;124m'\u001b[39m\u001b[38;5;124mIterations\u001b[39m\u001b[38;5;124m'\u001b[39m, yaxis_title \u001b[38;5;241m=\u001b[39m \u001b[38;5;124m'\u001b[39m\u001b[38;5;124mRewards\u001b[39m\u001b[38;5;124m'\u001b[39m,\n\u001b[0;32m      7\u001b[0m                  font \u001b[38;5;241m=\u001b[39m \u001b[38;5;28mdict\u001b[39m(\n\u001b[0;32m      8\u001b[0m                      family \u001b[38;5;241m=\u001b[39m \u001b[38;5;124m'\u001b[39m\u001b[38;5;124mTimes New Roman\u001b[39m\u001b[38;5;124m'\u001b[39m,\n\u001b[0;32m      9\u001b[0m                      size \u001b[38;5;241m=\u001b[39m \u001b[38;5;241m18\u001b[39m,\n\u001b[0;32m     10\u001b[0m                  ))\n",
      "\u001b[1;31mNameError\u001b[0m: name 'rewards' is not defined"
     ]
    }
   ],
   "source": [
    "fig = go.Figure()\n",
    "\n",
    "fig.add_trace(go.Scatter(y = rewards, mode = 'lines', name = 'Rewards'))\n",
    "fig.add_trace(go.Scatter(y = rewards_internal_dispersion, mode = 'lines', name = 'MoG Rewards'))\n",
    "\n",
    "fig.update_layout(title_text=\"Basic PPO vs MoG PPO\", xaxis_title = 'Iterations', yaxis_title = 'Rewards',\n",
    "                 font = dict(\n",
    "                     family = 'Times New Roman',\n",
    "                     size = 18,\n",
    "                 ))\n",
    "# fig.write_image('/MoG_Performance.png')\n",
    "#no internal dispersion and not normalized by N*N\n",
    "fig.show()"
   ]
  },
  {
   "cell_type": "code",
   "execution_count": null,
   "id": "a4c5b405",
   "metadata": {},
   "outputs": [],
   "source": []
  },
  {
   "cell_type": "code",
   "execution_count": null,
   "id": "c48d261a",
   "metadata": {},
   "outputs": [],
   "source": []
  },
  {
   "cell_type": "code",
   "execution_count": null,
   "id": "1bfeaa5e",
   "metadata": {},
   "outputs": [],
   "source": []
  },
  {
   "cell_type": "code",
   "execution_count": null,
   "id": "d7837cf6",
   "metadata": {},
   "outputs": [],
   "source": []
  },
  {
   "cell_type": "code",
   "execution_count": null,
   "id": "e96d3ec4",
   "metadata": {},
   "outputs": [],
   "source": []
  },
  {
   "cell_type": "code",
   "execution_count": null,
   "id": "e37414d9",
   "metadata": {},
   "outputs": [],
   "source": []
  },
  {
   "cell_type": "code",
   "execution_count": null,
   "id": "6f82dc8a",
   "metadata": {},
   "outputs": [],
   "source": []
  }
 ],
 "metadata": {
  "kernelspec": {
   "display_name": "Python 3 (ipykernel)",
   "language": "python",
   "name": "python3"
  },
  "language_info": {
   "codemirror_mode": {
    "name": "ipython",
    "version": 3
   },
   "file_extension": ".py",
   "mimetype": "text/x-python",
   "name": "python",
   "nbconvert_exporter": "python",
   "pygments_lexer": "ipython3",
   "version": "3.11.4"
  }
 },
 "nbformat": 4,
 "nbformat_minor": 5
}
