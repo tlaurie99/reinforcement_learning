{
 "cells": [
  {
   "cell_type": "code",
   "execution_count": null,
   "id": "4fe2099f",
   "metadata": {
    "tags": []
   },
   "outputs": [],
   "source": [
    "import os\n",
    "import ray\n",
    "import time\n",
    "import math\n",
    "import shutil\n",
    "import numpy as np\n",
    "import pandas as pd\n",
    "from ray import tune\n",
    "from MoG_module import CriticMoG\n",
    "from ray.train.torch import TorchTrainer\n",
    "from ray.rllib.models import ModelCatalog\n",
    "from ray.rllib.algorithms.ppo import PPOConfig\n",
    "from ENNWrapper_mog_auto_loss import ENNWrapper\n",
    "from ray.rllib.policy.sample_batch import SampleBatch\n",
    "from ray.rllib.utils.framework import try_import_torch\n",
    "from ray.rllib.models.torch.torch_modelv2 import TorchModelV2\n",
    "from ray.rllib.utils.annotations import OverrideToImplementCustomLogic\n",
    "from ray.rllib.models.torch.fcnet import FullyConnectedNetwork as TorchFC\n",
    "\n",
    "path = os.getcwd()\n",
    "torch, nn = try_import_torch()\n",
    "ray.init()"
   ]
  },
  {
   "cell_type": "code",
   "execution_count": null,
   "id": "736edb5a",
   "metadata": {
    "tags": []
   },
   "outputs": [],
   "source": [
    "class CustomTorchModelMOG(TorchModelV2, nn.Module):\n",
    "    def __init__(self, obs_space, action_space, num_outputs, model_config, name):\n",
    "        super(CustomTorchModelMOG, self).__init__(obs_space, action_space, num_outputs, model_config, name)\n",
    "        \n",
    "        TorchModelV2.__init__(self, obs_space, action_space, num_outputs, model_config, name)\n",
    "        nn.Module.__init__(self)\n",
    "        torch.autograd.set_detect_anomaly(True)\n",
    "\n",
    "        self.gamma = 0.99\n",
    "        self.step_number = 0\n",
    "        self.activation_fn = model_config['fcnet_activation']\n",
    "#         self.device = torch.device('cuda' if torch.cuda.is_available() else 'cpu')\n",
    "        self.base_critic_network = CriticMoG(obs_space = obs_space, num_gaussians = 2, \n",
    "                                        hidden_layer_dims = 2048, num_layers = 2, \n",
    "                                        activation = self.activation_fn)\n",
    "        self.actor_network = TorchFC(obs_space, action_space, action_space.shape[0]*2, \n",
    "                                      model_config, name + \"_actor\")\n",
    "        self.critic_network = ENNWrapper(base_network = self.base_critic_network, z_dim = 5, enn_layer = 50,\n",
    "                                     activation = self.activation_fn)\n",
    "        \n",
    "    @OverrideToImplementCustomLogic\n",
    "    def forward(self, input_dict, state, seq_lens):\n",
    "        obs = input_dict['obs_flat'].float()\n",
    "        batch_size = obs.shape[0]\n",
    "        # actor forward pass\n",
    "        raw_action_logits, _ = self.actor_network(input_dict, state, seq_lens)\n",
    "        # critic forward pass for MoG network\n",
    "        self.raw_critic_output, _ = self.critic_network(input_dict, state, seq_lens)\n",
    "        self.step_number += 1\n",
    "        \n",
    "        return raw_action_logits, state\n",
    "\n",
    "    @OverrideToImplementCustomLogic\n",
    "    def value_function(self):\n",
    "        return self.critic_network.value_function()\n",
    "\n",
    "    @OverrideToImplementCustomLogic\n",
    "    def custom_loss(self, policy_loss, sample_batch):\n",
    "        critic_loss = self.critic_network.enn_loss(sample_batch = sample_batch, handle_loss = True, \n",
    "                                                gamma=self.gamma)\n",
    "        total_loss = [loss + critic_loss for loss in policy_loss]\n",
    "        return total_loss\n",
    "\n",
    "\n",
    "ModelCatalog.register_custom_model(\"custom_torch_model_mog\", CustomTorchModelMOG)"
   ]
  },
  {
   "cell_type": "code",
   "execution_count": null,
   "id": "3935974d",
   "metadata": {
    "scrolled": false,
    "tags": []
   },
   "outputs": [],
   "source": [
    "%%time\n",
    "\n",
    "config = PPOConfig().training(\n",
    "    gamma = 0.99,\n",
    "    lambda_ = 0.95,\n",
    "    # kl_coeff = 0.5,\n",
    "    num_sgd_iter = 30,\n",
    "    lr_schedule = [[0, 0.0003], [15_000_000, 0.00025], [30_000_000, 0.0002], [50_000_000, 0.0001]],\n",
    "    vf_loss_coeff = 1.0,\n",
    "    vf_clip_param = 15.0,\n",
    "    clip_param = 0.3,\n",
    "    grad_clip_by ='norm', \n",
    "    train_batch_size = 19_200, \n",
    "    sgd_minibatch_size = 4_096,\n",
    "    grad_clip = 1.0,\n",
    "    model = {'custom_model': 'custom_torch_model_mog', 'vf_share_layers': False, \n",
    "           'fcnet_hiddens': [2048,2048],'fcnet_activation': 'LeakyReLU'},\n",
    ").environment(env='HalfCheetah-v4'\n",
    ").rollouts(\n",
    "num_rollout_workers = 20,\n",
    ").resources(num_gpus = 1\n",
    ")\n",
    "\n",
    "algo = config.build()\n",
    "\n",
    "num_iterations = 200\n",
    "results = []\n",
    "\n",
    "for i in range(num_iterations):\n",
    "    result = algo.train()\n",
    "    print(f\"Iteration: {i}, Mean Reward: {result['episode_reward_mean']}\")\n",
    "    results.append(result['episode_reward_mean'])\n",
    "    \n",
    "ray.shutdown()\n"
   ]
  },
  {
   "cell_type": "code",
   "execution_count": null,
   "id": "fed1c393",
   "metadata": {},
   "outputs": [],
   "source": []
  },
  {
   "cell_type": "code",
   "execution_count": null,
   "id": "faeb7405",
   "metadata": {},
   "outputs": [],
   "source": []
  }
 ],
 "metadata": {
  "kernelspec": {
   "display_name": "Python 3 (ipykernel)",
   "language": "python",
   "name": "python3"
  },
  "language_info": {
   "codemirror_mode": {
    "name": "ipython",
    "version": 3
   },
   "file_extension": ".py",
   "mimetype": "text/x-python",
   "name": "python",
   "nbconvert_exporter": "python",
   "pygments_lexer": "ipython3",
   "version": "3.10.9"
  }
 },
 "nbformat": 4,
 "nbformat_minor": 5
}
