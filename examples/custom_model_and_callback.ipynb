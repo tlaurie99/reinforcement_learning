{
 "cells": [
  {
   "cell_type": "code",
   "execution_count": null,
   "id": "640b2e90",
   "metadata": {},
   "outputs": [],
   "source": [
    "import os\n",
    "import ray\n",
    "import time\n",
    "import math\n",
    "import numpy as np\n",
    "import pandas as pd\n",
    "from ray.rllib.algorithms.ppo import PPOConfig\n",
    "from SimpleTorchModel import SimpleCustomTorchModel\n",
    "from ray.rllib.utils.framework import try_import_torch\n",
    "from normalize_advantages import NormalizeAdvantagesCallback\n",
    "\n",
    "path = os.getcwd()\n",
    "torch, nn = try_import_torch()\n",
    "ray.init()"
   ]
  },
  {
   "cell_type": "code",
   "execution_count": null,
   "id": "e1748fa9",
   "metadata": {
    "scrolled": false
   },
   "outputs": [],
   "source": [
    "%%time\n",
    "config = PPOConfig().training(\n",
    "    gamma = 0.99,\n",
    "    lambda_ = 0.95,\n",
    "    # kl_coeff = 0.5,\n",
    "    num_sgd_iter = 30,\n",
    "    lr_schedule = [[0, 0.0003], [15_000_000, 0.00025], [30_000_000, 0.0002], [50_000_000, 0.0001]],\n",
    "    vf_loss_coeff = 0.5,\n",
    "    vf_clip_param = 15.0,\n",
    "    clip_param = 0.2,\n",
    "    grad_clip_by ='norm', \n",
    "    train_batch_size = 65_000, \n",
    "    sgd_minibatch_size = 4_096,\n",
    "    grad_clip = 0.5,\n",
    "    model = {'custom_model': 'SimpleCustomTorchModel', \n",
    "           'vf_share_layers': False,\n",
    "           'fcnet_hiddens': [256,256],\n",
    "           'fcnet_activation': 'LeakyReLU',\n",
    "             #this isn't used for some models, but doesn't hurt to keep it\n",
    "           'custom_model_config': {\n",
    "                'num_gaussians': 2,\n",
    "           }\n",
    "            }\n",
    ").environment(env = 'HalfCheetah-v4'\n",
    ").rollouts(\n",
    "num_rollout_workers = 28\n",
    ").resources(num_gpus = 1\n",
    ").callbacks(NormalizeAdvantagesCallback\n",
    ")\n",
    "\n",
    "\n",
    "algo = config.build()\n",
    "\n",
    "num_iterations = 1\n",
    "results = []\n",
    "\n",
    "for i in range(num_iterations):\n",
    "    result = algo.train()\n",
    "    print(f\"Iteration: {i}, Mean Reward: {result['episode_reward_mean']}\")\n",
    "    results.append([result['episode_reward_mean'], result['episode_len_mean']])\n",
    "\n",
    "\n",
    "results_df = pd.DataFrame(results)\n",
    "    \n",
    "ray.shutdown()\n"
   ]
  }
 ],
 "metadata": {
  "kernelspec": {
   "display_name": "Python 3 (ipykernel)",
   "language": "python",
   "name": "python3"
  },
  "language_info": {
   "codemirror_mode": {
    "name": "ipython",
    "version": 3
   },
   "file_extension": ".py",
   "mimetype": "text/x-python",
   "name": "python",
   "nbconvert_exporter": "python",
   "pygments_lexer": "ipython3",
   "version": "3.10.9"
  }
 },
 "nbformat": 4,
 "nbformat_minor": 5
}
