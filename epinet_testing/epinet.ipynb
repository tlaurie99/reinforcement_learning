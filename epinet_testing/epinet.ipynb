{
 "cells": [
  {
   "cell_type": "code",
   "execution_count": 1,
   "id": "e1a6d410-4dab-451c-a904-7f64b15fce6b",
   "metadata": {},
   "outputs": [
    {
     "ename": "KeyboardInterrupt",
     "evalue": "",
     "output_type": "error",
     "traceback": [
      "\u001b[1;31m---------------------------------------------------------------------------\u001b[0m",
      "\u001b[1;31mOSError\u001b[0m                                   Traceback (most recent call last)",
      "File \u001b[1;32m<frozen importlib._bootstrap>:1176\u001b[0m, in \u001b[0;36m_find_and_load\u001b[1;34m(name, import_)\u001b[0m\n",
      "File \u001b[1;32m<frozen importlib._bootstrap>:1147\u001b[0m, in \u001b[0;36m_find_and_load_unlocked\u001b[1;34m(name, import_)\u001b[0m\n",
      "File \u001b[1;32m<frozen importlib._bootstrap>:690\u001b[0m, in \u001b[0;36m_load_unlocked\u001b[1;34m(spec)\u001b[0m\n",
      "File \u001b[1;32m<frozen importlib._bootstrap_external>:940\u001b[0m, in \u001b[0;36mexec_module\u001b[1;34m(self, module)\u001b[0m\n",
      "File \u001b[1;32m<frozen importlib._bootstrap>:241\u001b[0m, in \u001b[0;36m_call_with_frames_removed\u001b[1;34m(f, *args, **kwds)\u001b[0m\n",
      "File \u001b[1;32m~\\AppData\\Roaming\\Python\\Python311\\site-packages\\ray\\__init__.py:75\u001b[0m\n\u001b[0;32m     72\u001b[0m         CDLL(so_path, ctypes\u001b[38;5;241m.\u001b[39mRTLD_GLOBAL)\n\u001b[1;32m---> 75\u001b[0m _configure_system()\n\u001b[0;32m     76\u001b[0m \u001b[38;5;66;03m# Delete configuration function.\u001b[39;00m\n",
      "File \u001b[1;32m~\\AppData\\Roaming\\Python\\Python311\\site-packages\\ray\\__init__.py:72\u001b[0m, in \u001b[0;36m_configure_system\u001b[1;34m()\u001b[0m\n\u001b[0;32m     70\u001b[0m \u001b[38;5;28;01mfrom\u001b[39;00m \u001b[38;5;21;01mctypes\u001b[39;00m \u001b[38;5;28;01mimport\u001b[39;00m CDLL\n\u001b[1;32m---> 72\u001b[0m CDLL(so_path, ctypes\u001b[38;5;241m.\u001b[39mRTLD_GLOBAL)\n",
      "File \u001b[1;32mC:\\ProgramData\\Anaconda\\Lib\\ctypes\\__init__.py:376\u001b[0m, in \u001b[0;36mCDLL.__init__\u001b[1;34m(self, name, mode, handle, use_errno, use_last_error, winmode)\u001b[0m\n\u001b[0;32m    375\u001b[0m \u001b[38;5;28;01mif\u001b[39;00m handle \u001b[38;5;129;01mis\u001b[39;00m \u001b[38;5;28;01mNone\u001b[39;00m:\n\u001b[1;32m--> 376\u001b[0m     \u001b[38;5;28mself\u001b[39m\u001b[38;5;241m.\u001b[39m_handle \u001b[38;5;241m=\u001b[39m _dlopen(\u001b[38;5;28mself\u001b[39m\u001b[38;5;241m.\u001b[39m_name, mode)\n\u001b[0;32m    377\u001b[0m \u001b[38;5;28;01melse\u001b[39;00m:\n",
      "\u001b[1;31mOSError\u001b[0m: [WinError 4551] Your organization used Device Guard to block this app. Contact your support person for more info",
      "\nDuring handling of the above exception, another exception occurred:\n",
      "\u001b[1;31mKeyboardInterrupt\u001b[0m                         Traceback (most recent call last)",
      "Cell \u001b[1;32mIn[1], line 1\u001b[0m\n\u001b[1;32m----> 1\u001b[0m \u001b[38;5;28;01mimport\u001b[39;00m \u001b[38;5;21;01mray\u001b[39;00m\n\u001b[0;32m      2\u001b[0m \u001b[38;5;28;01mimport\u001b[39;00m \u001b[38;5;21;01mtime\u001b[39;00m\n\u001b[0;32m      3\u001b[0m \u001b[38;5;28;01mfrom\u001b[39;00m \u001b[38;5;21;01mray\u001b[39;00m\u001b[38;5;21;01m.\u001b[39;00m\u001b[38;5;21;01mrllib\u001b[39;00m\u001b[38;5;21;01m.\u001b[39;00m\u001b[38;5;21;01mmodels\u001b[39;00m\u001b[38;5;21;01m.\u001b[39;00m\u001b[38;5;21;01mtorch\u001b[39;00m\u001b[38;5;21;01m.\u001b[39;00m\u001b[38;5;21;01mtorch_modelv2\u001b[39;00m \u001b[38;5;28;01mimport\u001b[39;00m TorchModelV2\n",
      "File \u001b[1;32m<frozen importlib._bootstrap>:1173\u001b[0m, in \u001b[0;36m_find_and_load\u001b[1;34m(name, import_)\u001b[0m\n",
      "File \u001b[1;32m<frozen importlib._bootstrap>:173\u001b[0m, in \u001b[0;36m__exit__\u001b[1;34m(self, *args, **kwargs)\u001b[0m\n",
      "\u001b[1;31mKeyboardInterrupt\u001b[0m: "
     ]
    }
   ],
   "source": [
    "import ray\n",
    "import time\n",
    "from ray.rllib.models.torch.torch_modelv2 import TorchModelV2\n",
    "from ray.rllib.algorithms.callbacks import DefaultCallbacks\n",
    "from ray.rllib.models import ModelCatalog\n",
    "from ray.rllib.utils.framework import try_import_torch\n",
    "from ray.rllib.algorithms.ppo import PPOConfig\n",
    "from ray import tune, air\n",
    "from ray.rllib.core.models.configs import MLPHeadConfig\n",
    "from ray.rllib.core.models.catalog import Catalog\n",
    "from ray.rllib.models.torch.fcnet import FullyConnectedNetwork as TorchFC\n",
    "from ray.rllib.utils.annotations import OverrideToImplementCustomLogic\n",
    "from gymnasium.spaces import Box\n",
    "from ray.train.torch import TorchTrainer\n",
    "from ray.train import ScalingConfig\n",
    "import ray.rllib.algorithms.ppo as ppo\n",
    "from ray.rllib.utils.typing import Dict, TensorType, List, ModelConfigDict\n",
    "import gymnasium as gym\n",
    "import matplotlib.pyplot as plt\n",
    "from ray.rllib.models.torch.misc import SlimFC, AppendBiasLayer\n",
    "from ray.rllib.policy.torch_policy import TorchPolicy\n",
    "from ray.rllib.policy.policy_template import build_policy_class\n",
    "from ray.rllib.policy.sample_batch import SampleBatch\n",
    "from ray.rllib.utils.annotations import override\n",
    "import numpy as np\n",
    "import pandas as pd\n",
    "from ray import tune\n",
    "import math\n",
    "from torch.distributions.normal import Normal\n",
    "from ray.tune.schedulers import ASHAScheduler\n",
    "from torch.utils.tensorboard import SummaryWriter\n",
    "import plotly.express as px\n",
    "import plotly.graph_objects as go\n",
    "import pandas as pd\n",
    "import os \n",
    "import shutil\n",
    "path = os.getcwd()"
   ]
  },
  {
   "cell_type": "code",
   "execution_count": 2,
   "id": "23c731a0-994d-4ffe-a802-402036ac4228",
   "metadata": {
    "scrolled": true
   },
   "outputs": [
    {
     "name": "stderr",
     "output_type": "stream",
     "text": [
      "2024-04-29 18:33:38,077\tWARNING services.py:1996 -- WARNING: The object store is using /tmp instead of /dev/shm because /dev/shm has only 67059712 bytes available. This will harm performance! You may be able to free up space by deleting files in /dev/shm. If you are inside a Docker container, you can increase /dev/shm size by passing '--shm-size=10.24gb' to 'docker run' (or add it to the run_options list in a Ray cluster config). Make sure to set this to more than 30% of available RAM.\n",
      "2024-04-29 18:33:39,260\tINFO worker.py:1724 -- Started a local Ray instance.\n"
     ]
    },
    {
     "data": {
      "application/vnd.jupyter.widget-view+json": {
       "model_id": "266a84f3594b4cfaa54dc02276e0ce72",
       "version_major": 2,
       "version_minor": 0
      },
      "text/html": [
       "<div class=\"lm-Widget p-Widget lm-Panel p-Panel jp-Cell-outputWrapper\">\n",
       "    <div style=\"margin-left: 50px;display: flex;flex-direction: row;align-items: center\">\n",
       "        <div class=\"jp-RenderedHTMLCommon\" style=\"display: flex; flex-direction: row;\">\n",
       "  <svg viewBox=\"0 0 567 224\" fill=\"none\" xmlns=\"http://www.w3.org/2000/svg\" style=\"height: 3em;\">\n",
       "    <g clip-path=\"url(#clip0_4338_178347)\">\n",
       "        <path d=\"M341.29 165.561H355.29L330.13 129.051C345.63 123.991 354.21 112.051 354.21 94.2307C354.21 71.3707 338.72 58.1807 311.88 58.1807H271V165.561H283.27V131.661H311.8C314.25 131.661 316.71 131.501 319.01 131.351L341.25 165.561H341.29ZM283.29 119.851V70.0007H311.82C331.3 70.0007 342.34 78.2907 342.34 94.5507C342.34 111.271 331.34 119.861 311.82 119.861L283.29 119.851ZM451.4 138.411L463.4 165.561H476.74L428.74 58.1807H416L367.83 165.561H380.83L392.83 138.411H451.4ZM446.19 126.601H398L422 72.1407L446.24 126.601H446.19ZM526.11 128.741L566.91 58.1807H554.35L519.99 114.181L485.17 58.1807H472.44L514.01 129.181V165.541H526.13V128.741H526.11Z\" fill=\"var(--jp-ui-font-color0)\"/>\n",
       "        <path d=\"M82.35 104.44C84.0187 97.8827 87.8248 92.0678 93.1671 87.9146C98.5094 83.7614 105.083 81.5067 111.85 81.5067C118.617 81.5067 125.191 83.7614 130.533 87.9146C135.875 92.0678 139.681 97.8827 141.35 104.44H163.75C164.476 101.562 165.622 98.8057 167.15 96.2605L127.45 56.5605C121.071 60.3522 113.526 61.6823 106.235 60.3005C98.9443 58.9187 92.4094 54.9203 87.8602 49.0574C83.3109 43.1946 81.0609 35.8714 81.5332 28.4656C82.0056 21.0599 85.1679 14.0819 90.4252 8.8446C95.6824 3.60726 102.672 0.471508 110.08 0.0272655C117.487 -0.416977 124.802 1.86091 130.647 6.4324C136.493 11.0039 140.467 17.5539 141.821 24.8501C143.175 32.1463 141.816 39.6859 138 46.0505L177.69 85.7505C182.31 82.9877 187.58 81.4995 192.962 81.4375C198.345 81.3755 203.648 82.742 208.33 85.3976C213.012 88.0532 216.907 91.9029 219.616 96.5544C222.326 101.206 223.753 106.492 223.753 111.875C223.753 117.258 222.326 122.545 219.616 127.197C216.907 131.848 213.012 135.698 208.33 138.353C203.648 141.009 198.345 142.375 192.962 142.313C187.58 142.251 182.31 140.763 177.69 138L138 177.7C141.808 184.071 143.155 191.614 141.79 198.91C140.424 206.205 136.44 212.75 130.585 217.313C124.731 221.875 117.412 224.141 110.004 223.683C102.596 223.226 95.6103 220.077 90.3621 214.828C85.1139 209.58 81.9647 202.595 81.5072 195.187C81.0497 187.779 83.3154 180.459 87.878 174.605C92.4405 168.751 98.9853 164.766 106.281 163.401C113.576 162.035 121.119 163.383 127.49 167.19L167.19 127.49C165.664 124.941 164.518 122.182 163.79 119.3H141.39C139.721 125.858 135.915 131.673 130.573 135.826C125.231 139.98 118.657 142.234 111.89 142.234C105.123 142.234 98.5494 139.98 93.2071 135.826C87.8648 131.673 84.0587 125.858 82.39 119.3H60C58.1878 126.495 53.8086 132.78 47.6863 136.971C41.5641 141.163 34.1211 142.972 26.7579 142.059C19.3947 141.146 12.6191 137.574 7.70605 132.014C2.79302 126.454 0.0813599 119.29 0.0813599 111.87C0.0813599 104.451 2.79302 97.2871 7.70605 91.7272C12.6191 86.1673 19.3947 82.5947 26.7579 81.6817C34.1211 80.7686 41.5641 82.5781 47.6863 86.7696C53.8086 90.9611 58.1878 97.2456 60 104.44H82.35ZM100.86 204.32C103.407 206.868 106.759 208.453 110.345 208.806C113.93 209.159 117.527 208.258 120.522 206.256C123.517 204.254 125.725 201.276 126.771 197.828C127.816 194.38 127.633 190.677 126.253 187.349C124.874 184.021 122.383 181.274 119.205 179.577C116.027 177.88 112.359 177.337 108.826 178.042C105.293 178.746 102.113 180.654 99.8291 183.44C97.5451 186.226 96.2979 189.718 96.3 193.32C96.2985 195.364 96.7006 197.388 97.4831 199.275C98.2656 201.163 99.4132 202.877 100.86 204.32ZM204.32 122.88C206.868 120.333 208.453 116.981 208.806 113.396C209.159 109.811 208.258 106.214 206.256 103.219C204.254 100.223 201.275 98.0151 197.827 96.97C194.38 95.9249 190.676 96.1077 187.348 97.4873C184.02 98.8669 181.274 101.358 179.577 104.536C177.879 107.714 177.337 111.382 178.041 114.915C178.746 118.448 180.653 121.627 183.439 123.911C186.226 126.195 189.717 127.443 193.32 127.44C195.364 127.443 197.388 127.042 199.275 126.259C201.163 125.476 202.878 124.328 204.32 122.88ZM122.88 19.4205C120.333 16.8729 116.981 15.2876 113.395 14.9347C109.81 14.5817 106.213 15.483 103.218 17.4849C100.223 19.4868 98.0146 22.4654 96.9696 25.9131C95.9245 29.3608 96.1073 33.0642 97.4869 36.3922C98.8665 39.7202 101.358 42.4668 104.535 44.1639C107.713 45.861 111.381 46.4036 114.914 45.6992C118.447 44.9949 121.627 43.0871 123.911 40.301C126.195 37.515 127.442 34.0231 127.44 30.4205C127.44 28.3772 127.038 26.3539 126.255 24.4664C125.473 22.5788 124.326 20.8642 122.88 19.4205ZM19.42 100.86C16.8725 103.408 15.2872 106.76 14.9342 110.345C14.5813 113.93 15.4826 117.527 17.4844 120.522C19.4863 123.518 22.4649 125.726 25.9127 126.771C29.3604 127.816 33.0638 127.633 36.3918 126.254C39.7198 124.874 42.4664 122.383 44.1635 119.205C45.8606 116.027 46.4032 112.359 45.6988 108.826C44.9944 105.293 43.0866 102.114 40.3006 99.8296C37.5145 97.5455 34.0227 96.2983 30.42 96.3005C26.2938 96.3018 22.337 97.9421 19.42 100.86ZM100.86 100.86C98.3125 103.408 96.7272 106.76 96.3742 110.345C96.0213 113.93 96.9226 117.527 98.9244 120.522C100.926 123.518 103.905 125.726 107.353 126.771C110.8 127.816 114.504 127.633 117.832 126.254C121.16 124.874 123.906 122.383 125.604 119.205C127.301 116.027 127.843 112.359 127.139 108.826C126.434 105.293 124.527 102.114 121.741 99.8296C118.955 97.5455 115.463 96.2983 111.86 96.3005C109.817 96.299 107.793 96.701 105.905 97.4835C104.018 98.2661 102.303 99.4136 100.86 100.86Z\" fill=\"#00AEEF\"/>\n",
       "    </g>\n",
       "    <defs>\n",
       "        <clipPath id=\"clip0_4338_178347\">\n",
       "            <rect width=\"566.93\" height=\"223.75\" fill=\"white\"/>\n",
       "        </clipPath>\n",
       "    </defs>\n",
       "  </svg>\n",
       "</div>\n",
       "\n",
       "        <table class=\"jp-RenderedHTMLCommon\" style=\"border-collapse: collapse;color: var(--jp-ui-font-color1);font-size: var(--jp-ui-font-size1);\">\n",
       "    <tr>\n",
       "        <td style=\"text-align: left\"><b>Python version:</b></td>\n",
       "        <td style=\"text-align: left\"><b>3.10.13</b></td>\n",
       "    </tr>\n",
       "    <tr>\n",
       "        <td style=\"text-align: left\"><b>Ray version:</b></td>\n",
       "        <td style=\"text-align: left\"><b>2.9.2</b></td>\n",
       "    </tr>\n",
       "    \n",
       "</table>\n",
       "\n",
       "    </div>\n",
       "</div>\n"
      ],
      "text/plain": [
       "RayContext(dashboard_url='', python_version='3.10.13', ray_version='2.9.2', ray_commit='fce7a361807580953364e2da964f9498f3123bf9', protocol_version=None)"
      ]
     },
     "execution_count": 2,
     "metadata": {},
     "output_type": "execute_result"
    },
    {
     "name": "stderr",
     "output_type": "stream",
     "text": [
      "\u001b[36m(RolloutWorker pid=20578)\u001b[0m /tmp/ipykernel_18564/2699569045.py:30: DeprecationWarning: `product` is deprecated as of NumPy 1.25.0, and will be removed in NumPy 2.0. Please use `prod` instead.\n"
     ]
    }
   ],
   "source": [
    "torch, nn = try_import_torch()\n",
    "ray.init()"
   ]
  },
  {
   "cell_type": "code",
   "execution_count": 3,
   "id": "6aa909d6-573e-4ac9-b042-754a86bc1b98",
   "metadata": {},
   "outputs": [],
   "source": [
    "def reference_distribution(mean, std, z_dim, batch_size):\n",
    "    dimensions = (batch_size, z_dim)\n",
    "    random_draw = torch.normal(mean, std, dimensions)\n",
    "    return random_draw\n",
    "\n",
    "\n",
    "class EpistemicNNModel(TorchModelV2, nn.Module):\n",
    "    def __init__(self, obs_space, action_space, num_outputs, model_config, name):\n",
    "        super(EpistemicNNModel, self).__init__(obs_space, action_space, num_outputs, model_config, name)\n",
    "        \n",
    "        TorchModelV2.__init__(self, obs_space, action_space, num_outputs, model_config, name)\n",
    "        \n",
    "        nn.Module.__init__(self)\n",
    "\n",
    "        self.mean = 0\n",
    "        self.std = 1\n",
    "        self.z_dim = 8\n",
    "        self.critic_output_dims = model_config['fcnet_hiddens'][-1]\n",
    "        self.actor_output_dims = model_config['fcnet_hiddens'][-1]\n",
    "        self.initializer = torch.nn.init.xavier_normal_\n",
    "        self.activation_fn = model_config['fcnet_activation']\n",
    "        self.enn_layer = 25\n",
    "        self.action_outputs = action_space.shape[0]*2\n",
    "        self.step_number = 0\n",
    "        self.z_indices = None\n",
    "        self.obs_space = obs_space\n",
    "        self.action_space = action_space\n",
    "        self.gamma = 0.95\n",
    "\n",
    "        self.actor = TorchFC(obs_space, action_space, action_space.shape[0]*2, model_config, name + \"_actor\")\n",
    "        # self.actor_out = SlimFC(self.actor_output_dims, action_space.shape[0]*2, initializer=self.initializer, activation_fn=self.activation_fn)\n",
    "\n",
    "        # self.value_branch = TorchFC(obs_space, action_space, 1, model_config, name + \"_critic\")\n",
    "        self.critic_in = SlimFC(obs_space.shape[0], model_config['fcnet_hiddens'][0], initializer=self.initializer, activation_fn=self.activation_fn)\n",
    "        self.critic_1 = SlimFC(model_config['fcnet_hiddens'][1], model_config['fcnet_hiddens'][1], initializer=self.initializer, activation_fn=self.activation_fn)\n",
    "        self.critic_out = SlimFC(self.critic_output_dims, 1, initializer=self.initializer, activation_fn=self.activation_fn)\n",
    "        \n",
    "        self.enn_learnable_1 = SlimFC(self.critic_output_dims + self.z_dim, self.enn_layer, initializer=self.initializer, activation_fn=self.activation_fn)\n",
    "        self.enn_learnable_out = SlimFC(self.enn_layer, self.z_dim*1, initializer=self.initializer, activation_fn=None)\n",
    "\n",
    "        self.prior_1 = SlimFC(self.critic_output_dims + self.z_dim, self.enn_layer, initializer=self.initializer, activation_fn=self.activation_fn)\n",
    "        self.prior_out = SlimFC(self.enn_layer, 1, initializer=self.initializer, activation_fn=None)\n",
    "\n",
    "    @override(TorchModelV2)\n",
    "    def forward(self, input_dict, state, seq_lens):\n",
    "        action_logits, _ = self.actor(input_dict, state, seq_lens)\n",
    "        # action_logits_out = self.actor_out(action_logits)\n",
    "        batch_size = action_logits.shape[0]\n",
    "\n",
    "        self.z_indices = reference_distribution(self.mean, self.std, self.z_dim, batch_size)\n",
    "\n",
    "        obs = input_dict[\"obs_flat\"].float()\n",
    "        \n",
    "        self.step_number += 1\n",
    "        if self.step_number < 10:\n",
    "            #this step counter will count with the dummy loss initialization as well\n",
    "            critic_0 = self.critic_in(obs)\n",
    "            critic_features = self.critic_1(critic_0)\n",
    "            self.critic_out_value = self.critic_out(critic_features)\n",
    "            z_concat = torch.cat((critic_features, self.z_indices), 1)\n",
    "\n",
    "            #make passes through ENN and prior to allow params / gradients to be initialzed in the ENN & prior networks\n",
    "            enn_layer_1_out = self.enn_learnable_1(z_concat)\n",
    "            enn_layer = self.enn_learnable_out(enn_layer_1_out)\n",
    "            enn_layer_unsqeeze_out = torch.unsqueeze(enn_layer, -1)\n",
    "            z_unsqueeze = torch.unsqueeze(self.z_indices, -1)\n",
    "            enn_layer_bmm = torch.bmm(torch.transpose(enn_layer_unsqeeze_out, 1, 2), z_unsqueeze)\n",
    "            enn_layer_out = enn_layer_bmm.squeeze(-1)\n",
    "            \n",
    "    \n",
    "            prior_layer_1 = self.prior_1(z_concat)\n",
    "            prior_layer_out = self.prior_out(prior_layer_1)\n",
    "            \n",
    "            \n",
    "        else:\n",
    "            #process critic output\n",
    "            critic_0 = self.critic_in(obs)\n",
    "            critic_features = self.critic_1(critic_0)\n",
    "            value_out = self.critic_out(critic_features)\n",
    "            z_concat = torch.cat((critic_features, self.z_indices), 1)\n",
    "\n",
    "            #make passes through ENN and prior\n",
    "            enn_layer_1_out = self.enn_learnable_1(z_concat)\n",
    "            enn_layer = self.enn_learnable_out(enn_layer_1_out)\n",
    "            enn_layer_unsqeeze_out = torch.unsqueeze(enn_layer, -1)\n",
    "            z_unsqueeze = torch.unsqueeze(self.z_indices, -1)\n",
    "            enn_layer_bmm = torch.bmm(torch.transpose(enn_layer_unsqeeze_out, 1, 2), z_unsqueeze)\n",
    "            enn_layer_out = enn_layer_bmm.squeeze(-1)\n",
    "\n",
    "            with torch.no_grad():\n",
    "                prior_layer_1 = self.prior_1(z_concat)\n",
    "                prior_layer_out = self.prior_out(prior_layer_1)\n",
    "    \n",
    "            # #add prior and ENN to the value network out\n",
    "            self.critic_out_value = value_out + enn_layer_out + prior_layer_out\n",
    "            \n",
    "        return action_logits, state\n",
    "        \n",
    "    @override(TorchModelV2)\n",
    "    def value_function(self):\n",
    "        #for the first 5 iterations use the base network as the summed value\n",
    "        #then return the value = base_value + enn layer out  + prior layer out\n",
    "        return self.critic_out_value.squeeze(-1)\n",
    "\n",
    "    @override(TorchModelV2)\n",
    "    def custom_loss(self, policy_loss, sample_batch):\n",
    "\n",
    "        cur_obs = sample_batch[SampleBatch.CUR_OBS]\n",
    "        next_obs = sample_batch[SampleBatch.NEXT_OBS]\n",
    "        rewards = sample_batch[SampleBatch.REWARDS]\n",
    "        dones = sample_batch[SampleBatch.DONES]\n",
    "\n",
    "\n",
    "        critic_0 = self.critic_in(cur_obs)\n",
    "        critic_features = self.critic_1(critic_0)\n",
    "        z_concat = torch.cat((critic_features, self.z_indices), 1)\n",
    "        enn_layer_1_out = self.enn_learnable_1(z_concat)\n",
    "        enn_layer = self.enn_learnable_out(enn_layer_1_out)\n",
    "        enn_layer_unsqeeze_out = torch.unsqueeze(enn_layer, -1)\n",
    "        z_unsqueeze = torch.unsqueeze(self.z_indices, -1)\n",
    "        enn_layer_bmm = torch.bmm(torch.transpose(enn_layer_unsqeeze_out, 1, 2), z_unsqueeze)\n",
    "        enn_layer_out = enn_layer_bmm.squeeze(-1)\n",
    "        \n",
    "        next_critic_0 = self.critic_in(next_obs)\n",
    "        next_critic_features = self.critic_1(next_critic_0)\n",
    "        next_z_concat = torch.cat((next_critic_features, self.z_indices), 1)\n",
    "        enn_layer_1_out = self.enn_learnable_1(next_z_concat)\n",
    "        enn_layer = self.enn_learnable_out(enn_layer_1_out)\n",
    "        enn_layer_unsqeeze_out = torch.unsqueeze(enn_layer, -1)\n",
    "        z_unsqueeze = torch.unsqueeze(self.z_indices, -1)\n",
    "        enn_layer_bmm = torch.bmm(torch.transpose(enn_layer_unsqeeze_out, 1, 2), z_unsqueeze)\n",
    "        enn_layer_out_next = enn_layer_bmm.squeeze(-1)\n",
    "        \n",
    "        td_target = rewards + self.gamma * enn_layer_out_next * (1 - dones.float())\n",
    "        td_pred = enn_layer_out\n",
    "\n",
    "        td_loss = torch.square(td_pred - td_target)\n",
    "        td_loss = torch.mean(td_loss)\n",
    "\n",
    "        total_loss = [loss + td_loss for loss in policy_loss]\n",
    "        \n",
    "        return total_loss\n",
    "        \n",
    "\n",
    "\n",
    "# Register the custom model to make it available to Ray/RLlib\n",
    "ModelCatalog.register_custom_model(\"ENNModel\", EpistemicNNModel)"
   ]
  },
  {
   "cell_type": "code",
   "execution_count": null,
   "id": "2e3d1c38-0f76-4bbd-93b0-34ef49584e2e",
   "metadata": {},
   "outputs": [
    {
     "name": "stderr",
     "output_type": "stream",
     "text": [
      "/usr/local/lib/python3.10/dist-packages/ray/rllib/algorithms/algorithm.py:483: RayDeprecationWarning: This API is deprecated and may be removed in future Ray releases. You could suppress this warning by setting env variable PYTHONWARNINGS=\"ignore::DeprecationWarning\"\n",
      "`UnifiedLogger` will be removed in Ray 2.7.\n",
      "  return UnifiedLogger(config, logdir, loggers=None)\n",
      "/usr/local/lib/python3.10/dist-packages/ray/tune/logger/unified.py:53: RayDeprecationWarning: This API is deprecated and may be removed in future Ray releases. You could suppress this warning by setting env variable PYTHONWARNINGS=\"ignore::DeprecationWarning\"\n",
      "The `JsonLogger interface is deprecated in favor of the `ray.tune.json.JsonLoggerCallback` interface and will be removed in Ray 2.7.\n",
      "  self._loggers.append(cls(self.config, self.logdir, self.trial))\n",
      "/usr/local/lib/python3.10/dist-packages/ray/tune/logger/unified.py:53: RayDeprecationWarning: This API is deprecated and may be removed in future Ray releases. You could suppress this warning by setting env variable PYTHONWARNINGS=\"ignore::DeprecationWarning\"\n",
      "The `CSVLogger interface is deprecated in favor of the `ray.tune.csv.CSVLoggerCallback` interface and will be removed in Ray 2.7.\n",
      "  self._loggers.append(cls(self.config, self.logdir, self.trial))\n",
      "/usr/local/lib/python3.10/dist-packages/ray/tune/logger/unified.py:53: RayDeprecationWarning: This API is deprecated and may be removed in future Ray releases. You could suppress this warning by setting env variable PYTHONWARNINGS=\"ignore::DeprecationWarning\"\n",
      "The `TBXLogger interface is deprecated in favor of the `ray.tune.tensorboardx.TBXLoggerCallback` interface and will be removed in Ray 2.7.\n",
      "  self._loggers.append(cls(self.config, self.logdir, self.trial))\n",
      "/tmp/ipykernel_18564/2699569045.py:30: DeprecationWarning: `product` is deprecated as of NumPy 1.25.0, and will be removed in NumPy 2.0. Please use `prod` instead.\n",
      "  self.actor = TorchFC(obs_space, action_space, action_space.shape[0]*2, model_config, name + \"_actor\")\n",
      "2024-04-29 18:33:46,593\tWARNING util.py:62 -- Install gputil for GPU system monitoring.\n",
      "2024-04-29 18:33:55,441\tWARNING deprecation.py:50 -- DeprecationWarning: `ray.rllib.execution.train_ops.multi_gpu_train_one_step` has been deprecated. This will raise an error in the future!\n"
     ]
    },
    {
     "name": "stdout",
     "output_type": "stream",
     "text": [
      "Iteration: 0, Mean Reward: -357.3114158111543\n",
      "Iteration: 1, Mean Reward: -345.5228033713146\n",
      "Iteration: 2, Mean Reward: -328.80677669521975\n",
      "Iteration: 3, Mean Reward: -322.05876979480513\n",
      "Iteration: 4, Mean Reward: -301.8678314750078\n",
      "Iteration: 5, Mean Reward: -285.8677336159631\n"
     ]
    }
   ],
   "source": [
    "config = PPOConfig().training(\n",
    "    gamma = 0.99,\n",
    "    lambda_ = 0.95,\n",
    "    # kl_coeff = 1.0,\n",
    "    num_sgd_iter = 30,\n",
    "    lr_schedule = [[0, 0.0003], [5_000_000, 0.00025], [15_000_000, 0.00020], [30_000_000, 0.00015]],\n",
    "    vf_loss_coeff = 1.0,\n",
    "    #reintroduced clip param\n",
    "    vf_clip_param = 15.0,\n",
    "    clip_param = 0.3,\n",
    "    grad_clip_by = 'norm', \n",
    "    train_batch_size = 65_500, \n",
    "    sgd_minibatch_size = 4_096,\n",
    "    grad_clip = 1.0,\n",
    "    model={\n",
    "        'custom_model': 'ENNModel',\n",
    "        'fcnet_hiddens': [512, 512],\n",
    "        'fcnet_activation': 'LeakyReLU'\n",
    "    }\n",
    ").environment(env='HalfCheetah-v4'\n",
    ").rollouts(\n",
    "num_rollout_workers = 28,\n",
    "# num_envs_per_worker = 4,\n",
    ")\n",
    "#.callbacks(MyCustomCallback\n",
    "#)\n",
    "algo = config.build()\n",
    "\n",
    "num_iterations = 400\n",
    "rewards = []\n",
    "\n",
    "for i in range(num_iterations):\n",
    "    result = algo.train()\n",
    "    print(f\"Iteration: {i}, Mean Reward: {result['episode_reward_mean']}\")\n",
    "    rewards.append(result['episode_reward_mean'])\n",
    "    \n",
    "ray.shutdown()\n"
   ]
  },
  {
   "cell_type": "code",
   "execution_count": 5,
   "id": "2cc4b7b0-e7c9-453a-8293-686cf7b789cd",
   "metadata": {
    "scrolled": true
   },
   "outputs": [],
   "source": [
    "policy_weights = algo.get_weights()"
   ]
  },
  {
   "cell_type": "code",
   "execution_count": 6,
   "id": "043c0cc5-7d0c-45c6-8110-c0693a8716f1",
   "metadata": {},
   "outputs": [],
   "source": [
    "prior_weight_keys = [key for key in policy_weights['default_policy'] if 'prior' in key]"
   ]
  },
  {
   "cell_type": "code",
   "execution_count": 7,
   "id": "6e811955-ccac-4263-be84-397e8bb025bf",
   "metadata": {},
   "outputs": [],
   "source": [
    "prior_weights = {key: policy_weights['default_policy'][key] for key in prior_weight_keys}"
   ]
  },
  {
   "cell_type": "code",
   "execution_count": 18,
   "id": "1f3279c0-c340-410c-a230-72be3136428a",
   "metadata": {},
   "outputs": [
    {
     "data": {
      "text/plain": [
       "261"
      ]
     },
     "execution_count": 18,
     "metadata": {},
     "output_type": "execute_result"
    }
   ],
   "source": [
    "prior_weights['prior_1._model.0.weight'][1]"
   ]
  },
  {
   "cell_type": "code",
   "execution_count": 5,
   "id": "6c74eb3f-68d3-408f-8649-3c94c6632477",
   "metadata": {},
   "outputs": [],
   "source": [
    "results_df_dim_change = pd.DataFrame(rewards)"
   ]
  },
  {
   "cell_type": "code",
   "execution_count": 8,
   "id": "349485c7-1826-4779-a964-e639a1e3ee7e",
   "metadata": {},
   "outputs": [],
   "source": [
    "results_df_dim_change.to_csv(path + '/dim_change.csv')"
   ]
  },
  {
   "cell_type": "code",
   "execution_count": null,
   "id": "b5133803-79b9-4a7d-bba6-7a92034e4da4",
   "metadata": {},
   "outputs": [],
   "source": []
  }
 ],
 "metadata": {
  "kernelspec": {
   "display_name": "Python 3 (ipykernel)",
   "language": "python",
   "name": "python3"
  },
  "language_info": {
   "codemirror_mode": {
    "name": "ipython",
    "version": 3
   },
   "file_extension": ".py",
   "mimetype": "text/x-python",
   "name": "python",
   "nbconvert_exporter": "python",
   "pygments_lexer": "ipython3",
   "version": "3.11.7"
  }
 },
 "nbformat": 4,
 "nbformat_minor": 5
}
